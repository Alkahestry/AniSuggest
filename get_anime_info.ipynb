{
 "cells": [
  {
   "cell_type": "code",
   "execution_count": 5,
   "metadata": {},
   "outputs": [],
   "source": [
    "import pandas as pd\n",
    "import pickle\n",
    "import json\n",
    "from tqdm import tqdm\n",
    "import time\n",
    "import pickle\n",
    "from yuno1.ui import base as uBase\n",
    "from yuno1.search import base as sBase\n",
    "import PIL\n",
    "from yuno.preprocessing.filter import *\n",
    "from crawler import *"
   ]
  },
  {
   "cell_type": "code",
   "execution_count": 6,
   "metadata": {},
   "outputs": [],
   "source": [
    "anime_info_dict= {}"
   ]
  },
  {
   "cell_type": "code",
   "execution_count": 7,
   "metadata": {},
   "outputs": [],
   "source": [
    "data = pd.read_csv('data/anime_data.csv')"
   ]
  },
  {
   "cell_type": "code",
   "execution_count": 8,
   "metadata": {},
   "outputs": [],
   "source": [
    "def get_data(index):\n",
    "    json_data = json.loads(data['json'][index])\n",
    "    uid = json_data['id']\n",
    "    names = list(json_data[\"title\"].values())\n",
    "    img_url = json_data[\"coverImage\"][\"large\"]\n",
    "    \n",
    "    synopsis = json_data[\"description\"]\n",
    "    anilist_url = json_data[\"siteUrl\"]\n",
    "    mal_url = \"https://myanimelist.net/anime/\"+str(uid)\n",
    "    anime_info_dict[sBase.AnimeUid(uid)] = uBase.AnimeInfo(names,img_url,synopsis,anilist_url,mal_url)"
   ]
  },
  {
   "cell_type": "code",
   "execution_count": 9,
   "metadata": {},
   "outputs": [],
   "source": [
    "for index in range(len(data['id'])):\n",
    "    get_data(index)"
   ]
  },
  {
   "cell_type": "code",
   "execution_count": 23,
   "metadata": {},
   "outputs": [
    {
     "name": "stdout",
     "output_type": "stream",
     "text": [
      "Number of anime info records: 17773\n"
     ]
    }
   ],
   "source": [
    "print(f\"Number of anime info records: {len(anime_info_dict)}\")"
   ]
  },
  {
   "cell_type": "code",
   "execution_count": 11,
   "metadata": {},
   "outputs": [],
   "source": [
    "anime_infos = {int:AnimeInfo}"
   ]
  },
  {
   "cell_type": "code",
   "execution_count": 12,
   "metadata": {},
   "outputs": [],
   "source": [
    "#List containing character failed to process  for later review\n",
    "false_character = []"
   ]
  },
  {
   "cell_type": "code",
   "execution_count": 15,
   "metadata": {},
   "outputs": [],
   "source": [
    "def get_ani_data(index):\n",
    "    json_data = json.loads(data['json'][index])\n",
    "    \n",
    "    uid = json_data['idMal']\n",
    "    \n",
    "    if not uid:\n",
    "        return\n",
    "    \n",
    "    titles = get_anime_title(json_data)\n",
    "    \n",
    "    characters = []\n",
    "    character_json = json_data[\"characters\"][\"edges\"]\n",
    "    #For each anime iterate through all characters\n",
    "    for char_id in range(len(character_json)):\n",
    "        \n",
    "        #Get character names\n",
    "        character_names = Char_Helper.get_character_names(character_json,char_id)\n",
    "        if len(character_names)<1:\n",
    "            continue\n",
    "        \n",
    "        #Fetch character gender\n",
    "        gender = Char_Helper.get_character_gender(character_json,char_id)\n",
    "        if gender is None:\n",
    "            continue\n",
    "        \n",
    "        #If both characters name and gender(MALE,FEMALE) is valid, create character info then add it to anime info\n",
    "        char = Character(character_names, gender)\n",
    "        characters.append(char)\n",
    "    \n",
    "    ani_info = AnimeInfo(uid,titles,characters)\n",
    "    anime_infos[sBase.AnimeUid(uid)] = ani_info"
   ]
  },
  {
   "cell_type": "code",
   "execution_count": 16,
   "metadata": {},
   "outputs": [
    {
     "name": "stderr",
     "output_type": "stream",
     "text": [
      "100%|██████████| 17773/17773 [00:03<00:00, 5365.66it/s]\n"
     ]
    }
   ],
   "source": [
    "for index in tqdm(range(len(data['id']))):\n",
    "    get_ani_data(index)"
   ]
  },
  {
   "cell_type": "code",
   "execution_count": null,
   "metadata": {},
   "outputs": [],
   "source": [
    "with open('data/anime_info1.pickle', 'wb') as f:\n",
    "    pickle.dump(anime_infos, f)"
   ]
  },
  {
   "cell_type": "code",
   "execution_count": 17,
   "metadata": {},
   "outputs": [
    {
     "name": "stdout",
     "output_type": "stream",
     "text": [
      "0\n"
     ]
    }
   ],
   "source": [
    "print(len(false_character))"
   ]
  },
  {
   "cell_type": "code",
   "execution_count": 20,
   "metadata": {},
   "outputs": [
    {
     "name": "stdout",
     "output_type": "stream",
     "text": [
      "[Character(names=['Zura', 'Fruit Punch Samurai', 'Zurako', 'Captain Katsura', 'Katsuo', 'ObaZ', 'Kotarou'], gender=<Gender.MALE: '[MALE_CHAR]'>), Character(names=['Yorozuya', 'Mr. Odd Jobs', 'Shiroyasha', 'Gin', 'Gin-chan', 'Kintoki', 'Paako', 'Ginpachi-sensei', 'Ginnoji', 'GFundz', 'Gintoki'], gender=<Gender.MALE: '[MALE_CHAR]'>), Character(names=['Gura', 'China Girl', 'Leader', 'Gurako', 'Kagura'], gender=<Gender.FEMALE: '[FEMALE_CHAR]'>), Character(names=['Shin-chan', 'Shin', 'Pattsuan', 'Megane', 'Pachie', 'Shintank', 'Watson', 'Pasta', 'Shinpachi'], gender=<Gender.MALE: '[MALE_CHAR]'>), Character(names=['Admiral idiot', 'Baka Teitoku', 'Baka Aniki', 'Kamui'], gender=<Gender.MALE: '[MALE_CHAR]'>), Character(names=['Nobutasu', 'Nobume'], gender=<Gender.FEMALE: '[FEMALE_CHAR]'>), Character(names=['Mucchi', 'Mutsu'], gender=<Gender.FEMALE: '[FEMALE_CHAR]'>), Character(names=['Utsuro'], gender=<Gender.MALE: '[MALE_CHAR]'>), Character(names=['Master of Kouan', 'Kouka'], gender=<Gender.FEMALE: '[FEMALE_CHAR]'>), Character(names=['Tsunpo', 'Deaf Man', 'Bansai'], gender=<Gender.MALE: '[MALE_CHAR]'>), Character(names=['Shinsuke'], gender=<Gender.MALE: '[MALE_CHAR]'>), Character(names=['Umibouzu'], gender=<Gender.MALE: '[MALE_CHAR]'>), Character(names=['Abuto'], gender=<Gender.MALE: '[MALE_CHAR]'>), Character(names=['Matako'], gender=<Gender.FEMALE: '[FEMALE_CHAR]'>), Character(names=['Shouyou'], gender=<Gender.MALE: '[MALE_CHAR]'>)]\n"
     ]
    }
   ],
   "source": [
    "print(anime_infos[34096].characters)"
   ]
  },
  {
   "cell_type": "code",
   "execution_count": 21,
   "metadata": {},
   "outputs": [
    {
     "data": {
      "text/plain": [
       "AnimeInfo(uid=34096, names=['銀魂。', 'Gintama', 'Gintama Season 5'], characters=[Character(names=['Zura', 'Fruit Punch Samurai', 'Zurako', 'Captain Katsura', 'Katsuo', 'ObaZ', 'Kotarou'], gender=<Gender.MALE: '[MALE_CHAR]'>), Character(names=['Yorozuya', 'Mr. Odd Jobs', 'Shiroyasha', 'Gin', 'Gin-chan', 'Kintoki', 'Paako', 'Ginpachi-sensei', 'Ginnoji', 'GFundz', 'Gintoki'], gender=<Gender.MALE: '[MALE_CHAR]'>), Character(names=['Gura', 'China Girl', 'Leader', 'Gurako', 'Kagura'], gender=<Gender.FEMALE: '[FEMALE_CHAR]'>), Character(names=['Shin-chan', 'Shin', 'Pattsuan', 'Megane', 'Pachie', 'Shintank', 'Watson', 'Pasta', 'Shinpachi'], gender=<Gender.MALE: '[MALE_CHAR]'>), Character(names=['Admiral idiot', 'Baka Teitoku', 'Baka Aniki', 'Kamui'], gender=<Gender.MALE: '[MALE_CHAR]'>), Character(names=['Nobutasu', 'Nobume'], gender=<Gender.FEMALE: '[FEMALE_CHAR]'>), Character(names=['Mucchi', 'Mutsu'], gender=<Gender.FEMALE: '[FEMALE_CHAR]'>), Character(names=['Utsuro'], gender=<Gender.MALE: '[MALE_CHAR]'>), Character(names=['Master of Kouan', 'Kouka'], gender=<Gender.FEMALE: '[FEMALE_CHAR]'>), Character(names=['Tsunpo', 'Deaf Man', 'Bansai'], gender=<Gender.MALE: '[MALE_CHAR]'>), Character(names=['Shinsuke'], gender=<Gender.MALE: '[MALE_CHAR]'>), Character(names=['Umibouzu'], gender=<Gender.MALE: '[MALE_CHAR]'>), Character(names=['Abuto'], gender=<Gender.MALE: '[MALE_CHAR]'>), Character(names=['Matako'], gender=<Gender.FEMALE: '[FEMALE_CHAR]'>), Character(names=['Shouyou'], gender=<Gender.MALE: '[MALE_CHAR]'>)])"
      ]
     },
     "execution_count": 21,
     "metadata": {},
     "output_type": "execute_result"
    }
   ],
   "source": [
    "anime_infos[34096]"
   ]
  },
  {
   "cell_type": "code",
   "execution_count": null,
   "metadata": {},
   "outputs": [],
   "source": []
  }
 ],
 "metadata": {
  "interpreter": {
   "hash": "93f1965ce6100b59cc68242dd9d2313ffb6cf6edc00db502dc336e4c50bfb553"
  },
  "kernelspec": {
   "display_name": "Python 3.9.9 64-bit (system)",
   "language": "python",
   "name": "python3"
  },
  "language_info": {
   "codemirror_mode": {
    "name": "ipython",
    "version": 3
   },
   "file_extension": ".py",
   "mimetype": "text/x-python",
   "name": "python",
   "nbconvert_exporter": "python",
   "pygments_lexer": "ipython3",
   "version": "3.9.9"
  },
  "orig_nbformat": 4
 },
 "nbformat": 4,
 "nbformat_minor": 2
}
