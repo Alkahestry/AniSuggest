{
 "cells": [
  {
   "cell_type": "code",
   "execution_count": 1,
   "metadata": {},
   "outputs": [],
   "source": [
    "from yuno.preprocessing.summarizer import *\n",
    "from yuno.preprocessing.filter import *\n",
    "from yuno.preprocessing.sentencizer import *\n",
    "from crawler import Review\n",
    "import pandas as pd\n",
    "import pickle\n",
    "import time"
   ]
  },
  {
   "cell_type": "markdown",
   "metadata": {},
   "source": [
    "Load data from anime_info.pickle(get_anime_info.ipynb)"
   ]
  },
  {
   "cell_type": "code",
   "execution_count": 2,
   "metadata": {},
   "outputs": [],
   "source": [
    "anime_info = pd.read_pickle('data/anime_info.pickle')\n"
   ]
  },
  {
   "cell_type": "code",
   "execution_count": 3,
   "metadata": {},
   "outputs": [],
   "source": [
    "reviews = pd.read_csv('data/reviews.csv')"
   ]
  },
  {
   "cell_type": "code",
   "execution_count": 4,
   "metadata": {},
   "outputs": [
    {
     "data": {
      "text/plain": [
       "192112"
      ]
     },
     "execution_count": 4,
     "metadata": {},
     "output_type": "execute_result"
    }
   ],
   "source": [
    "len(reviews['text'])"
   ]
  },
  {
   "cell_type": "code",
   "execution_count": 5,
   "metadata": {},
   "outputs": [],
   "source": [
    "checkpoint = 0"
   ]
  },
  {
   "cell_type": "markdown",
   "metadata": {},
   "source": [
    "Load checkpoint(index:int) from a file, uncomment to load checkpoint, else start from begin"
   ]
  },
  {
   "cell_type": "code",
   "execution_count": 6,
   "metadata": {},
   "outputs": [],
   "source": [
    "# checkpoint = pickle.load(open('data/checkpoint.pickle', 'rb'))"
   ]
  },
  {
   "cell_type": "code",
   "execution_count": 7,
   "metadata": {},
   "outputs": [],
   "source": [
    "# print(checkpoint)\n",
    "#257"
   ]
  },
  {
   "cell_type": "code",
   "execution_count": 8,
   "metadata": {},
   "outputs": [],
   "source": [
    "with open('data/processed11.pickle', 'rb') as handle:\n",
    "    processed = pickle.load(handle)"
   ]
  },
  {
   "cell_type": "code",
   "execution_count": 9,
   "metadata": {},
   "outputs": [],
   "source": [
    "review = Review(reviews = reviews,anime_info = anime_info)"
   ]
  },
  {
   "cell_type": "code",
   "execution_count": 10,
   "metadata": {},
   "outputs": [],
   "source": [
    "def word_count(string):\n",
    "    # Here we are removing the spaces from start and end,\n",
    "    # and breaking every word whenever we encounter a space\n",
    "    # and storing them in a list. The len of the list is the\n",
    "    # total count of words.\n",
    "    return(len(string.strip().split(\" \")))"
   ]
  },
  {
   "cell_type": "code",
   "execution_count": 13,
   "metadata": {},
   "outputs": [
    {
     "name": "stdout",
     "output_type": "stream",
     "text": [
      "Time to process review at index 0: 35.56257200241089)\n",
      "Time to process review at index 1: 72.14427280426025)\n",
      "Time to process review at index 2: 16.343844652175903)\n",
      "Time to process review at index 3: 59.87526845932007)\n",
      "Time to process review at index 4: 22.988817930221558)\n",
      "Time to process review at index 5: 27.601433038711548)\n"
     ]
    },
    {
     "ename": "KeyboardInterrupt",
     "evalue": "",
     "output_type": "error",
     "traceback": [
      "\u001b[1;31m---------------------------------------------------------------------------\u001b[0m",
      "\u001b[1;31mKeyboardInterrupt\u001b[0m                         Traceback (most recent call last)",
      "\u001b[1;32m~\\AppData\\Local\\Temp/ipykernel_11692/2280712072.py\u001b[0m in \u001b[0;36m<module>\u001b[1;34m\u001b[0m\n\u001b[0;32m      7\u001b[0m \u001b[1;33m\u001b[0m\u001b[0m\n\u001b[0;32m      8\u001b[0m     \u001b[0mstart\u001b[0m \u001b[1;33m=\u001b[0m \u001b[0mtime\u001b[0m\u001b[1;33m.\u001b[0m\u001b[0mtime\u001b[0m\u001b[1;33m(\u001b[0m\u001b[1;33m)\u001b[0m\u001b[1;33m\u001b[0m\u001b[1;33m\u001b[0m\u001b[0m\n\u001b[1;32m----> 9\u001b[1;33m     \u001b[0mstr\u001b[0m \u001b[1;33m=\u001b[0m \u001b[0mreview\u001b[0m\u001b[1;33m.\u001b[0m\u001b[0mprocess\u001b[0m\u001b[1;33m(\u001b[0m\u001b[0mi\u001b[0m\u001b[1;33m)\u001b[0m\u001b[1;33m\u001b[0m\u001b[1;33m\u001b[0m\u001b[0m\n\u001b[0m\u001b[0;32m     10\u001b[0m \u001b[1;33m\u001b[0m\u001b[0m\n\u001b[0;32m     11\u001b[0m     \u001b[0mprint\u001b[0m\u001b[1;33m(\u001b[0m\u001b[1;34mf\"Time to process review at index {i}: {time.time() - start})\"\u001b[0m\u001b[1;33m)\u001b[0m\u001b[1;33m\u001b[0m\u001b[1;33m\u001b[0m\u001b[0m\n",
      "\u001b[1;32me:\\Working\\ReCommender\\crawler\\review.py\u001b[0m in \u001b[0;36mprocess\u001b[1;34m(self, index)\u001b[0m\n\u001b[0;32m     33\u001b[0m         \u001b[0mstr\u001b[0m \u001b[1;33m=\u001b[0m \u001b[0mself\u001b[0m\u001b[1;33m.\u001b[0m\u001b[0mformat_txt\u001b[0m\u001b[1;33m(\u001b[0m\u001b[0mindex\u001b[0m\u001b[1;33m)\u001b[0m\u001b[1;33m\u001b[0m\u001b[1;33m\u001b[0m\u001b[0m\n\u001b[0;32m     34\u001b[0m         \u001b[0mstr\u001b[0m \u001b[1;33m=\u001b[0m \u001b[0mself\u001b[0m\u001b[1;33m.\u001b[0m\u001b[0msentencizer_func\u001b[0m\u001b[1;33m(\u001b[0m\u001b[0mstr\u001b[0m\u001b[1;33m)\u001b[0m\u001b[1;33m\u001b[0m\u001b[1;33m\u001b[0m\u001b[0m\n\u001b[1;32m---> 35\u001b[1;33m         \u001b[0mstr\u001b[0m \u001b[1;33m=\u001b[0m \u001b[0mself\u001b[0m\u001b[1;33m.\u001b[0m\u001b[0msummarizer_func\u001b[0m\u001b[1;33m(\u001b[0m\u001b[0mstr\u001b[0m\u001b[1;33m)\u001b[0m\u001b[1;33m\u001b[0m\u001b[1;33m\u001b[0m\u001b[0m\n\u001b[0m\u001b[0;32m     36\u001b[0m         \u001b[0mstr\u001b[0m \u001b[1;33m=\u001b[0m \u001b[0mself\u001b[0m\u001b[1;33m.\u001b[0m\u001b[0mfilter_text\u001b[0m\u001b[1;33m(\u001b[0m\u001b[0mindex\u001b[0m\u001b[1;33m,\u001b[0m \u001b[0mstr\u001b[0m\u001b[1;33m)\u001b[0m\u001b[1;33m\u001b[0m\u001b[1;33m\u001b[0m\u001b[0m\n\u001b[0;32m     37\u001b[0m \u001b[1;33m\u001b[0m\u001b[0m\n",
      "\u001b[1;32me:\\Working\\ReCommender\\crawler\\review.py\u001b[0m in \u001b[0;36msummarizer_func\u001b[1;34m(self, str)\u001b[0m\n\u001b[0;32m     25\u001b[0m \u001b[1;33m\u001b[0m\u001b[0m\n\u001b[0;32m     26\u001b[0m     \u001b[1;32mdef\u001b[0m \u001b[0msummarizer_func\u001b[0m\u001b[1;33m(\u001b[0m\u001b[0mself\u001b[0m\u001b[1;33m,\u001b[0m \u001b[0mstr\u001b[0m\u001b[1;33m)\u001b[0m \u001b[1;33m->\u001b[0m \u001b[0mlist\u001b[0m\u001b[1;33m:\u001b[0m\u001b[1;33m\u001b[0m\u001b[1;33m\u001b[0m\u001b[0m\n\u001b[1;32m---> 27\u001b[1;33m         \u001b[1;32mreturn\u001b[0m \u001b[0mself\u001b[0m\u001b[1;33m.\u001b[0m\u001b[0msummarizer\u001b[0m\u001b[1;33m.\u001b[0m\u001b[0msummarize\u001b[0m\u001b[1;33m(\u001b[0m\u001b[0mstr\u001b[0m\u001b[1;33m)\u001b[0m\u001b[1;33m\u001b[0m\u001b[1;33m\u001b[0m\u001b[0m\n\u001b[0m\u001b[0;32m     28\u001b[0m \u001b[1;33m\u001b[0m\u001b[0m\n\u001b[0;32m     29\u001b[0m     \u001b[1;32mdef\u001b[0m \u001b[0mfilter_text\u001b[0m\u001b[1;33m(\u001b[0m\u001b[0mself\u001b[0m\u001b[1;33m,\u001b[0m \u001b[0mindex\u001b[0m \u001b[1;33m:\u001b[0m \u001b[0mint\u001b[0m\u001b[1;33m,\u001b[0m \u001b[0mstr\u001b[0m \u001b[1;33m:\u001b[0m \u001b[0mlist\u001b[0m\u001b[1;33m)\u001b[0m \u001b[1;33m->\u001b[0m \u001b[0mlist\u001b[0m\u001b[1;33m:\u001b[0m\u001b[1;33m\u001b[0m\u001b[1;33m\u001b[0m\u001b[0m\n",
      "\u001b[1;32me:\\Working\\ReCommender\\yuno\\preprocessing\\summarizer.py\u001b[0m in \u001b[0;36msummarize\u001b[1;34m(self, docs)\u001b[0m\n\u001b[0;32m     30\u001b[0m \u001b[1;33m\u001b[0m\u001b[0m\n\u001b[0;32m     31\u001b[0m   \u001b[1;32mdef\u001b[0m \u001b[0msummarize\u001b[0m\u001b[1;33m(\u001b[0m\u001b[0mself\u001b[0m\u001b[1;33m,\u001b[0m \u001b[0mdocs\u001b[0m\u001b[1;33m:\u001b[0m \u001b[0mList\u001b[0m\u001b[1;33m[\u001b[0m\u001b[0mstr\u001b[0m\u001b[1;33m]\u001b[0m\u001b[1;33m)\u001b[0m \u001b[1;33m->\u001b[0m \u001b[0mList\u001b[0m\u001b[1;33m[\u001b[0m\u001b[0mstr\u001b[0m\u001b[1;33m]\u001b[0m\u001b[1;33m:\u001b[0m\u001b[1;33m\u001b[0m\u001b[1;33m\u001b[0m\u001b[0m\n\u001b[1;32m---> 32\u001b[1;33m     summarized_docs = self.summarizer_model(docs, max_length=self.MAX_SUMMARIZATION_LENGTH,\n\u001b[0m\u001b[0;32m     33\u001b[0m                                               \u001b[0mdo_sample\u001b[0m\u001b[1;33m=\u001b[0m\u001b[0mself\u001b[0m\u001b[1;33m.\u001b[0m\u001b[0mSAMPLE\u001b[0m\u001b[1;33m,\u001b[0m\u001b[1;33m\u001b[0m\u001b[1;33m\u001b[0m\u001b[0m\n\u001b[0;32m     34\u001b[0m                                               \u001b[0mtop_k\u001b[0m\u001b[1;33m=\u001b[0m\u001b[0mself\u001b[0m\u001b[1;33m.\u001b[0m\u001b[0mTOP_K\u001b[0m\u001b[1;33m,\u001b[0m\u001b[1;33m\u001b[0m\u001b[1;33m\u001b[0m\u001b[0m\n",
      "\u001b[1;32me:\\Python\\.venv\\lib\\site-packages\\transformers\\pipelines\\text2text_generation.py\u001b[0m in \u001b[0;36m__call__\u001b[1;34m(self, *args, **kwargs)\u001b[0m\n\u001b[0;32m    233\u001b[0m               \u001b[0mids\u001b[0m \u001b[0mof\u001b[0m \u001b[0mthe\u001b[0m \u001b[0msummary\u001b[0m\u001b[1;33m.\u001b[0m\u001b[1;33m\u001b[0m\u001b[1;33m\u001b[0m\u001b[0m\n\u001b[0;32m    234\u001b[0m         \"\"\"\n\u001b[1;32m--> 235\u001b[1;33m         \u001b[1;32mreturn\u001b[0m \u001b[0msuper\u001b[0m\u001b[1;33m(\u001b[0m\u001b[1;33m)\u001b[0m\u001b[1;33m.\u001b[0m\u001b[0m__call__\u001b[0m\u001b[1;33m(\u001b[0m\u001b[1;33m*\u001b[0m\u001b[0margs\u001b[0m\u001b[1;33m,\u001b[0m \u001b[1;33m**\u001b[0m\u001b[0mkwargs\u001b[0m\u001b[1;33m)\u001b[0m\u001b[1;33m\u001b[0m\u001b[1;33m\u001b[0m\u001b[0m\n\u001b[0m\u001b[0;32m    236\u001b[0m \u001b[1;33m\u001b[0m\u001b[0m\n\u001b[0;32m    237\u001b[0m     \u001b[1;32mdef\u001b[0m \u001b[0mcheck_inputs\u001b[0m\u001b[1;33m(\u001b[0m\u001b[0mself\u001b[0m\u001b[1;33m,\u001b[0m \u001b[0minput_length\u001b[0m\u001b[1;33m:\u001b[0m \u001b[0mint\u001b[0m\u001b[1;33m,\u001b[0m \u001b[0mmin_length\u001b[0m\u001b[1;33m:\u001b[0m \u001b[0mint\u001b[0m\u001b[1;33m,\u001b[0m \u001b[0mmax_length\u001b[0m\u001b[1;33m:\u001b[0m \u001b[0mint\u001b[0m\u001b[1;33m)\u001b[0m \u001b[1;33m->\u001b[0m \u001b[0mbool\u001b[0m\u001b[1;33m:\u001b[0m\u001b[1;33m\u001b[0m\u001b[1;33m\u001b[0m\u001b[0m\n",
      "\u001b[1;32me:\\Python\\.venv\\lib\\site-packages\\transformers\\pipelines\\text2text_generation.py\u001b[0m in \u001b[0;36m__call__\u001b[1;34m(self, *args, **kwargs)\u001b[0m\n\u001b[0;32m    135\u001b[0m         \"\"\"\n\u001b[0;32m    136\u001b[0m \u001b[1;33m\u001b[0m\u001b[0m\n\u001b[1;32m--> 137\u001b[1;33m         \u001b[0mresult\u001b[0m \u001b[1;33m=\u001b[0m \u001b[0msuper\u001b[0m\u001b[1;33m(\u001b[0m\u001b[1;33m)\u001b[0m\u001b[1;33m.\u001b[0m\u001b[0m__call__\u001b[0m\u001b[1;33m(\u001b[0m\u001b[1;33m*\u001b[0m\u001b[0margs\u001b[0m\u001b[1;33m,\u001b[0m \u001b[1;33m**\u001b[0m\u001b[0mkwargs\u001b[0m\u001b[1;33m)\u001b[0m\u001b[1;33m\u001b[0m\u001b[1;33m\u001b[0m\u001b[0m\n\u001b[0m\u001b[0;32m    138\u001b[0m         if (\n\u001b[0;32m    139\u001b[0m             \u001b[0misinstance\u001b[0m\u001b[1;33m(\u001b[0m\u001b[0margs\u001b[0m\u001b[1;33m[\u001b[0m\u001b[1;36m0\u001b[0m\u001b[1;33m]\u001b[0m\u001b[1;33m,\u001b[0m \u001b[0mlist\u001b[0m\u001b[1;33m)\u001b[0m\u001b[1;33m\u001b[0m\u001b[1;33m\u001b[0m\u001b[0m\n",
      "\u001b[1;32me:\\Python\\.venv\\lib\\site-packages\\transformers\\pipelines\\base.py\u001b[0m in \u001b[0;36m__call__\u001b[1;34m(self, inputs, num_workers, batch_size, *args, **kwargs)\u001b[0m\n\u001b[0;32m   1013\u001b[0m                     \u001b[0minputs\u001b[0m\u001b[1;33m,\u001b[0m \u001b[0mnum_workers\u001b[0m\u001b[1;33m,\u001b[0m \u001b[0mbatch_size\u001b[0m\u001b[1;33m,\u001b[0m \u001b[0mpreprocess_params\u001b[0m\u001b[1;33m,\u001b[0m \u001b[0mforward_params\u001b[0m\u001b[1;33m,\u001b[0m \u001b[0mpostprocess_params\u001b[0m\u001b[1;33m\u001b[0m\u001b[1;33m\u001b[0m\u001b[0m\n\u001b[0;32m   1014\u001b[0m                 )\n\u001b[1;32m-> 1015\u001b[1;33m                 \u001b[0moutputs\u001b[0m \u001b[1;33m=\u001b[0m \u001b[1;33m[\u001b[0m\u001b[0moutput\u001b[0m \u001b[1;32mfor\u001b[0m \u001b[0moutput\u001b[0m \u001b[1;32min\u001b[0m \u001b[0mfinal_iterator\u001b[0m\u001b[1;33m]\u001b[0m\u001b[1;33m\u001b[0m\u001b[1;33m\u001b[0m\u001b[0m\n\u001b[0m\u001b[0;32m   1016\u001b[0m                 \u001b[1;32mreturn\u001b[0m \u001b[0moutputs\u001b[0m\u001b[1;33m\u001b[0m\u001b[1;33m\u001b[0m\u001b[0m\n\u001b[0;32m   1017\u001b[0m             \u001b[1;32melse\u001b[0m\u001b[1;33m:\u001b[0m\u001b[1;33m\u001b[0m\u001b[1;33m\u001b[0m\u001b[0m\n",
      "\u001b[1;32me:\\Python\\.venv\\lib\\site-packages\\transformers\\pipelines\\base.py\u001b[0m in \u001b[0;36m<listcomp>\u001b[1;34m(.0)\u001b[0m\n\u001b[0;32m   1013\u001b[0m                     \u001b[0minputs\u001b[0m\u001b[1;33m,\u001b[0m \u001b[0mnum_workers\u001b[0m\u001b[1;33m,\u001b[0m \u001b[0mbatch_size\u001b[0m\u001b[1;33m,\u001b[0m \u001b[0mpreprocess_params\u001b[0m\u001b[1;33m,\u001b[0m \u001b[0mforward_params\u001b[0m\u001b[1;33m,\u001b[0m \u001b[0mpostprocess_params\u001b[0m\u001b[1;33m\u001b[0m\u001b[1;33m\u001b[0m\u001b[0m\n\u001b[0;32m   1014\u001b[0m                 )\n\u001b[1;32m-> 1015\u001b[1;33m                 \u001b[0moutputs\u001b[0m \u001b[1;33m=\u001b[0m \u001b[1;33m[\u001b[0m\u001b[0moutput\u001b[0m \u001b[1;32mfor\u001b[0m \u001b[0moutput\u001b[0m \u001b[1;32min\u001b[0m \u001b[0mfinal_iterator\u001b[0m\u001b[1;33m]\u001b[0m\u001b[1;33m\u001b[0m\u001b[1;33m\u001b[0m\u001b[0m\n\u001b[0m\u001b[0;32m   1016\u001b[0m                 \u001b[1;32mreturn\u001b[0m \u001b[0moutputs\u001b[0m\u001b[1;33m\u001b[0m\u001b[1;33m\u001b[0m\u001b[0m\n\u001b[0;32m   1017\u001b[0m             \u001b[1;32melse\u001b[0m\u001b[1;33m:\u001b[0m\u001b[1;33m\u001b[0m\u001b[1;33m\u001b[0m\u001b[0m\n",
      "\u001b[1;32me:\\Python\\.venv\\lib\\site-packages\\transformers\\pipelines\\pt_utils.py\u001b[0m in \u001b[0;36m__next__\u001b[1;34m(self)\u001b[0m\n\u001b[0;32m    109\u001b[0m \u001b[1;33m\u001b[0m\u001b[0m\n\u001b[0;32m    110\u001b[0m         \u001b[1;31m# We're out of items within a batch\u001b[0m\u001b[1;33m\u001b[0m\u001b[1;33m\u001b[0m\u001b[0m\n\u001b[1;32m--> 111\u001b[1;33m         \u001b[0mitem\u001b[0m \u001b[1;33m=\u001b[0m \u001b[0mnext\u001b[0m\u001b[1;33m(\u001b[0m\u001b[0mself\u001b[0m\u001b[1;33m.\u001b[0m\u001b[0miterator\u001b[0m\u001b[1;33m)\u001b[0m\u001b[1;33m\u001b[0m\u001b[1;33m\u001b[0m\u001b[0m\n\u001b[0m\u001b[0;32m    112\u001b[0m         \u001b[0mprocessed\u001b[0m \u001b[1;33m=\u001b[0m \u001b[0mself\u001b[0m\u001b[1;33m.\u001b[0m\u001b[0minfer\u001b[0m\u001b[1;33m(\u001b[0m\u001b[0mitem\u001b[0m\u001b[1;33m,\u001b[0m \u001b[1;33m**\u001b[0m\u001b[0mself\u001b[0m\u001b[1;33m.\u001b[0m\u001b[0mparams\u001b[0m\u001b[1;33m)\u001b[0m\u001b[1;33m\u001b[0m\u001b[1;33m\u001b[0m\u001b[0m\n\u001b[0;32m    113\u001b[0m         \u001b[1;31m# We now have a batch of \"inferred things\".\u001b[0m\u001b[1;33m\u001b[0m\u001b[1;33m\u001b[0m\u001b[0m\n",
      "\u001b[1;32me:\\Python\\.venv\\lib\\site-packages\\transformers\\pipelines\\pt_utils.py\u001b[0m in \u001b[0;36m__next__\u001b[1;34m(self)\u001b[0m\n\u001b[0;32m    110\u001b[0m         \u001b[1;31m# We're out of items within a batch\u001b[0m\u001b[1;33m\u001b[0m\u001b[1;33m\u001b[0m\u001b[0m\n\u001b[0;32m    111\u001b[0m         \u001b[0mitem\u001b[0m \u001b[1;33m=\u001b[0m \u001b[0mnext\u001b[0m\u001b[1;33m(\u001b[0m\u001b[0mself\u001b[0m\u001b[1;33m.\u001b[0m\u001b[0miterator\u001b[0m\u001b[1;33m)\u001b[0m\u001b[1;33m\u001b[0m\u001b[1;33m\u001b[0m\u001b[0m\n\u001b[1;32m--> 112\u001b[1;33m         \u001b[0mprocessed\u001b[0m \u001b[1;33m=\u001b[0m \u001b[0mself\u001b[0m\u001b[1;33m.\u001b[0m\u001b[0minfer\u001b[0m\u001b[1;33m(\u001b[0m\u001b[0mitem\u001b[0m\u001b[1;33m,\u001b[0m \u001b[1;33m**\u001b[0m\u001b[0mself\u001b[0m\u001b[1;33m.\u001b[0m\u001b[0mparams\u001b[0m\u001b[1;33m)\u001b[0m\u001b[1;33m\u001b[0m\u001b[1;33m\u001b[0m\u001b[0m\n\u001b[0m\u001b[0;32m    113\u001b[0m         \u001b[1;31m# We now have a batch of \"inferred things\".\u001b[0m\u001b[1;33m\u001b[0m\u001b[1;33m\u001b[0m\u001b[0m\n\u001b[0;32m    114\u001b[0m         \u001b[1;32mif\u001b[0m \u001b[0mself\u001b[0m\u001b[1;33m.\u001b[0m\u001b[0mloader_batch_size\u001b[0m \u001b[1;32mis\u001b[0m \u001b[1;32mnot\u001b[0m \u001b[1;32mNone\u001b[0m\u001b[1;33m:\u001b[0m\u001b[1;33m\u001b[0m\u001b[1;33m\u001b[0m\u001b[0m\n",
      "\u001b[1;32me:\\Python\\.venv\\lib\\site-packages\\transformers\\pipelines\\base.py\u001b[0m in \u001b[0;36mforward\u001b[1;34m(self, model_inputs, **forward_params)\u001b[0m\n\u001b[0;32m    941\u001b[0m                 \u001b[1;32mwith\u001b[0m \u001b[0minference_context\u001b[0m\u001b[1;33m(\u001b[0m\u001b[1;33m)\u001b[0m\u001b[1;33m:\u001b[0m\u001b[1;33m\u001b[0m\u001b[1;33m\u001b[0m\u001b[0m\n\u001b[0;32m    942\u001b[0m                     \u001b[0mmodel_inputs\u001b[0m \u001b[1;33m=\u001b[0m \u001b[0mself\u001b[0m\u001b[1;33m.\u001b[0m\u001b[0m_ensure_tensor_on_device\u001b[0m\u001b[1;33m(\u001b[0m\u001b[0mmodel_inputs\u001b[0m\u001b[1;33m,\u001b[0m \u001b[0mdevice\u001b[0m\u001b[1;33m=\u001b[0m\u001b[0mself\u001b[0m\u001b[1;33m.\u001b[0m\u001b[0mdevice\u001b[0m\u001b[1;33m)\u001b[0m\u001b[1;33m\u001b[0m\u001b[1;33m\u001b[0m\u001b[0m\n\u001b[1;32m--> 943\u001b[1;33m                     \u001b[0mmodel_outputs\u001b[0m \u001b[1;33m=\u001b[0m \u001b[0mself\u001b[0m\u001b[1;33m.\u001b[0m\u001b[0m_forward\u001b[0m\u001b[1;33m(\u001b[0m\u001b[0mmodel_inputs\u001b[0m\u001b[1;33m,\u001b[0m \u001b[1;33m**\u001b[0m\u001b[0mforward_params\u001b[0m\u001b[1;33m)\u001b[0m\u001b[1;33m\u001b[0m\u001b[1;33m\u001b[0m\u001b[0m\n\u001b[0m\u001b[0;32m    944\u001b[0m                     \u001b[0mmodel_outputs\u001b[0m \u001b[1;33m=\u001b[0m \u001b[0mself\u001b[0m\u001b[1;33m.\u001b[0m\u001b[0m_ensure_tensor_on_device\u001b[0m\u001b[1;33m(\u001b[0m\u001b[0mmodel_outputs\u001b[0m\u001b[1;33m,\u001b[0m \u001b[0mdevice\u001b[0m\u001b[1;33m=\u001b[0m\u001b[0mtorch\u001b[0m\u001b[1;33m.\u001b[0m\u001b[0mdevice\u001b[0m\u001b[1;33m(\u001b[0m\u001b[1;34m\"cpu\"\u001b[0m\u001b[1;33m)\u001b[0m\u001b[1;33m)\u001b[0m\u001b[1;33m\u001b[0m\u001b[1;33m\u001b[0m\u001b[0m\n\u001b[0;32m    945\u001b[0m             \u001b[1;32melse\u001b[0m\u001b[1;33m:\u001b[0m\u001b[1;33m\u001b[0m\u001b[1;33m\u001b[0m\u001b[0m\n",
      "\u001b[1;32me:\\Python\\.venv\\lib\\site-packages\\transformers\\pipelines\\text2text_generation.py\u001b[0m in \u001b[0;36m_forward\u001b[1;34m(self, model_inputs, **generate_kwargs)\u001b[0m\n\u001b[0;32m    157\u001b[0m         \u001b[0mgenerate_kwargs\u001b[0m\u001b[1;33m[\u001b[0m\u001b[1;34m\"max_length\"\u001b[0m\u001b[1;33m]\u001b[0m \u001b[1;33m=\u001b[0m \u001b[0mgenerate_kwargs\u001b[0m\u001b[1;33m.\u001b[0m\u001b[0mget\u001b[0m\u001b[1;33m(\u001b[0m\u001b[1;34m\"max_length\"\u001b[0m\u001b[1;33m,\u001b[0m \u001b[0mself\u001b[0m\u001b[1;33m.\u001b[0m\u001b[0mmodel\u001b[0m\u001b[1;33m.\u001b[0m\u001b[0mconfig\u001b[0m\u001b[1;33m.\u001b[0m\u001b[0mmax_length\u001b[0m\u001b[1;33m)\u001b[0m\u001b[1;33m\u001b[0m\u001b[1;33m\u001b[0m\u001b[0m\n\u001b[0;32m    158\u001b[0m         \u001b[0mself\u001b[0m\u001b[1;33m.\u001b[0m\u001b[0mcheck_inputs\u001b[0m\u001b[1;33m(\u001b[0m\u001b[0minput_length\u001b[0m\u001b[1;33m,\u001b[0m \u001b[0mgenerate_kwargs\u001b[0m\u001b[1;33m[\u001b[0m\u001b[1;34m\"min_length\"\u001b[0m\u001b[1;33m]\u001b[0m\u001b[1;33m,\u001b[0m \u001b[0mgenerate_kwargs\u001b[0m\u001b[1;33m[\u001b[0m\u001b[1;34m\"max_length\"\u001b[0m\u001b[1;33m]\u001b[0m\u001b[1;33m)\u001b[0m\u001b[1;33m\u001b[0m\u001b[1;33m\u001b[0m\u001b[0m\n\u001b[1;32m--> 159\u001b[1;33m         \u001b[0moutput_ids\u001b[0m \u001b[1;33m=\u001b[0m \u001b[0mself\u001b[0m\u001b[1;33m.\u001b[0m\u001b[0mmodel\u001b[0m\u001b[1;33m.\u001b[0m\u001b[0mgenerate\u001b[0m\u001b[1;33m(\u001b[0m\u001b[1;33m**\u001b[0m\u001b[0mmodel_inputs\u001b[0m\u001b[1;33m,\u001b[0m \u001b[1;33m**\u001b[0m\u001b[0mgenerate_kwargs\u001b[0m\u001b[1;33m)\u001b[0m\u001b[1;33m\u001b[0m\u001b[1;33m\u001b[0m\u001b[0m\n\u001b[0m\u001b[0;32m    160\u001b[0m         \u001b[0mout_b\u001b[0m \u001b[1;33m=\u001b[0m \u001b[0moutput_ids\u001b[0m\u001b[1;33m.\u001b[0m\u001b[0mshape\u001b[0m\u001b[1;33m[\u001b[0m\u001b[1;36m0\u001b[0m\u001b[1;33m]\u001b[0m\u001b[1;33m\u001b[0m\u001b[1;33m\u001b[0m\u001b[0m\n\u001b[0;32m    161\u001b[0m         \u001b[1;32mif\u001b[0m \u001b[0mself\u001b[0m\u001b[1;33m.\u001b[0m\u001b[0mframework\u001b[0m \u001b[1;33m==\u001b[0m \u001b[1;34m\"pt\"\u001b[0m\u001b[1;33m:\u001b[0m\u001b[1;33m\u001b[0m\u001b[1;33m\u001b[0m\u001b[0m\n",
      "\u001b[1;32me:\\Python\\.venv\\lib\\site-packages\\torch\\autograd\\grad_mode.py\u001b[0m in \u001b[0;36mdecorate_context\u001b[1;34m(*args, **kwargs)\u001b[0m\n\u001b[0;32m     25\u001b[0m         \u001b[1;32mdef\u001b[0m \u001b[0mdecorate_context\u001b[0m\u001b[1;33m(\u001b[0m\u001b[1;33m*\u001b[0m\u001b[0margs\u001b[0m\u001b[1;33m,\u001b[0m \u001b[1;33m**\u001b[0m\u001b[0mkwargs\u001b[0m\u001b[1;33m)\u001b[0m\u001b[1;33m:\u001b[0m\u001b[1;33m\u001b[0m\u001b[1;33m\u001b[0m\u001b[0m\n\u001b[0;32m     26\u001b[0m             \u001b[1;32mwith\u001b[0m \u001b[0mself\u001b[0m\u001b[1;33m.\u001b[0m\u001b[0m__class__\u001b[0m\u001b[1;33m(\u001b[0m\u001b[1;33m)\u001b[0m\u001b[1;33m:\u001b[0m\u001b[1;33m\u001b[0m\u001b[1;33m\u001b[0m\u001b[0m\n\u001b[1;32m---> 27\u001b[1;33m                 \u001b[1;32mreturn\u001b[0m \u001b[0mfunc\u001b[0m\u001b[1;33m(\u001b[0m\u001b[1;33m*\u001b[0m\u001b[0margs\u001b[0m\u001b[1;33m,\u001b[0m \u001b[1;33m**\u001b[0m\u001b[0mkwargs\u001b[0m\u001b[1;33m)\u001b[0m\u001b[1;33m\u001b[0m\u001b[1;33m\u001b[0m\u001b[0m\n\u001b[0m\u001b[0;32m     28\u001b[0m         \u001b[1;32mreturn\u001b[0m \u001b[0mcast\u001b[0m\u001b[1;33m(\u001b[0m\u001b[0mF\u001b[0m\u001b[1;33m,\u001b[0m \u001b[0mdecorate_context\u001b[0m\u001b[1;33m)\u001b[0m\u001b[1;33m\u001b[0m\u001b[1;33m\u001b[0m\u001b[0m\n\u001b[0;32m     29\u001b[0m \u001b[1;33m\u001b[0m\u001b[0m\n",
      "\u001b[1;32me:\\Python\\.venv\\lib\\site-packages\\transformers\\generation_utils.py\u001b[0m in \u001b[0;36mgenerate\u001b[1;34m(self, inputs, max_length, min_length, do_sample, early_stopping, num_beams, temperature, top_k, top_p, typical_p, repetition_penalty, bad_words_ids, force_words_ids, bos_token_id, pad_token_id, eos_token_id, length_penalty, no_repeat_ngram_size, encoder_no_repeat_ngram_size, num_return_sequences, max_time, max_new_tokens, decoder_start_token_id, use_cache, num_beam_groups, diversity_penalty, prefix_allowed_tokens_fn, logits_processor, renormalize_logits, stopping_criteria, constraints, output_attentions, output_hidden_states, output_scores, return_dict_in_generate, forced_bos_token_id, forced_eos_token_id, remove_invalid_values, synced_gpus, exponential_decay_length_penalty, **model_kwargs)\u001b[0m\n\u001b[0;32m   1386\u001b[0m \u001b[1;33m\u001b[0m\u001b[0m\n\u001b[0;32m   1387\u001b[0m             \u001b[1;31m# 13. run beam sample\u001b[0m\u001b[1;33m\u001b[0m\u001b[1;33m\u001b[0m\u001b[0m\n\u001b[1;32m-> 1388\u001b[1;33m             return self.beam_sample(\n\u001b[0m\u001b[0;32m   1389\u001b[0m                 \u001b[0minput_ids\u001b[0m\u001b[1;33m,\u001b[0m\u001b[1;33m\u001b[0m\u001b[1;33m\u001b[0m\u001b[0m\n\u001b[0;32m   1390\u001b[0m                 \u001b[0mbeam_scorer\u001b[0m\u001b[1;33m,\u001b[0m\u001b[1;33m\u001b[0m\u001b[1;33m\u001b[0m\u001b[0m\n",
      "\u001b[1;32me:\\Python\\.venv\\lib\\site-packages\\transformers\\generation_utils.py\u001b[0m in \u001b[0;36mbeam_sample\u001b[1;34m(self, input_ids, beam_scorer, logits_processor, stopping_criteria, logits_warper, max_length, pad_token_id, eos_token_id, output_attentions, output_hidden_states, output_scores, return_dict_in_generate, synced_gpus, **model_kwargs)\u001b[0m\n\u001b[0;32m   2555\u001b[0m             \u001b[0mprobs\u001b[0m \u001b[1;33m=\u001b[0m \u001b[0mnn\u001b[0m\u001b[1;33m.\u001b[0m\u001b[0mfunctional\u001b[0m\u001b[1;33m.\u001b[0m\u001b[0msoftmax\u001b[0m\u001b[1;33m(\u001b[0m\u001b[0mnext_token_scores\u001b[0m\u001b[1;33m,\u001b[0m \u001b[0mdim\u001b[0m\u001b[1;33m=\u001b[0m\u001b[1;33m-\u001b[0m\u001b[1;36m1\u001b[0m\u001b[1;33m)\u001b[0m\u001b[1;33m\u001b[0m\u001b[1;33m\u001b[0m\u001b[0m\n\u001b[0;32m   2556\u001b[0m \u001b[1;33m\u001b[0m\u001b[0m\n\u001b[1;32m-> 2557\u001b[1;33m             \u001b[0mnext_tokens\u001b[0m \u001b[1;33m=\u001b[0m \u001b[0mtorch\u001b[0m\u001b[1;33m.\u001b[0m\u001b[0mmultinomial\u001b[0m\u001b[1;33m(\u001b[0m\u001b[0mprobs\u001b[0m\u001b[1;33m,\u001b[0m \u001b[0mnum_samples\u001b[0m\u001b[1;33m=\u001b[0m\u001b[1;36m2\u001b[0m \u001b[1;33m*\u001b[0m \u001b[0mnum_beams\u001b[0m\u001b[1;33m)\u001b[0m\u001b[1;33m\u001b[0m\u001b[1;33m\u001b[0m\u001b[0m\n\u001b[0m\u001b[0;32m   2558\u001b[0m             \u001b[0mnext_token_scores\u001b[0m \u001b[1;33m=\u001b[0m \u001b[0mtorch\u001b[0m\u001b[1;33m.\u001b[0m\u001b[0mgather\u001b[0m\u001b[1;33m(\u001b[0m\u001b[0mnext_token_scores\u001b[0m\u001b[1;33m,\u001b[0m \u001b[1;33m-\u001b[0m\u001b[1;36m1\u001b[0m\u001b[1;33m,\u001b[0m \u001b[0mnext_tokens\u001b[0m\u001b[1;33m)\u001b[0m\u001b[1;33m\u001b[0m\u001b[1;33m\u001b[0m\u001b[0m\n\u001b[0;32m   2559\u001b[0m \u001b[1;33m\u001b[0m\u001b[0m\n",
      "\u001b[1;31mKeyboardInterrupt\u001b[0m: "
     ]
    }
   ],
   "source": [
    "# processed = {int: [] for int in reviews['anime_uid']}\n",
    "\n",
    "processed = {}\n",
    "for i in range(checkpoint,len(reviews['text'])):\n",
    "    \n",
    "    # str_len = word_count(review.format_txt(i))\n",
    "    \n",
    "    start = time.time()\n",
    "    str = review.process(i)\n",
    "    \n",
    "    print(f\"Time to process review at index {i}: {time.time() - start})\")\n",
    "    # print(f\"Time to process {i}: {time.time() - start}, input length: {str_len}\")\n",
    "    \n",
    "    if reviews['anime_uid'][i] in processed:\n",
    "        processed[reviews['anime_uid'][i]].append(str)\n",
    "    else:\n",
    "        processed[reviews['anime_uid'][i]] = str\n",
    "        \n",
    "    #Save checkpoint to a file so we stop the process anytime and ocntinue later\n",
    "    pickle.dump(i, open(\"checkpoint.pickle\", \"wb\"))"
   ]
  },
  {
   "cell_type": "markdown",
   "metadata": {},
   "source": [
    "Write to file and read from file"
   ]
  },
  {
   "cell_type": "code",
   "execution_count": 11,
   "metadata": {},
   "outputs": [],
   "source": [
    "with open('data/processed11.pickle', 'wb') as handle:\n",
    "    pickle.dump(processed, handle, protocol=pickle.HIGHEST_PROTOCOL)\n",
    "\n",
    "with open('data/processed11.pickle', 'rb') as handle:\n",
    "    b = pickle.load(handle)"
   ]
  },
  {
   "cell_type": "markdown",
   "metadata": {},
   "source": [
    "Checking processed data"
   ]
  },
  {
   "cell_type": "code",
   "execution_count": 12,
   "metadata": {},
   "outputs": [
    {
     "data": {
      "text/plain": [
       "dict_keys([34096, 34599, 28891, 2904, 4181, 16664, 4672, 5114, 30276, 8038, 1253, 1425, 7588, 20767, 35363, 22673, 6862, 451, 9563, 30364, 33280, 36369, 27633, 8609, 34944, 36214, 5680, 31637, 552, 38145])"
      ]
     },
     "execution_count": 12,
     "metadata": {},
     "output_type": "execute_result"
    }
   ],
   "source": [
    "b.keys()"
   ]
  },
  {
   "cell_type": "code",
   "execution_count": 13,
   "metadata": {},
   "outputs": [
    {
     "data": {
      "text/plain": [
       "[' This is a perfect show for kids, or even for adults, to show them how important friendship and togetherness are, and how important life was . This was my favorite show among another childhood shows (Samurai X, Inuyasha, etc) and I did remember that I kept re-watching the same episode over and over again, without feeling bored back then . I\\'ll admit it shyly that I almost forgot the legend song \"Butterfly\" (but luckily I didn\\'t) and the ending song \"Keep On\" perfectly . I\\'m proud for having this as part of my childhood shows, and childhood memories (cheers 90s!)',\n",
       " [\" Story: 9 (It's a surprisingly deep and extensive odissey) Art: 8 (Good at the beginning, and gets better by the episode) Sound: 9 . Character: 10 (Well developed, very likeable, realistic, in short, perfect) Enjoyment: 9.0 (Rarely dull, and with some moments of pure epicness) Overall: 9-0 (Certainly NOT a copy of pokémon - it's far, far better than it)\"],\n",
       " [\" This is a must watch not for the younger generation or people who grew up with this series in the 90's . It have such great moral lessons that even adults can learn from this anime . Art and animation is 100% hand drawn and still look good till these days .\"],\n",
       " [' This anime is one from my childhood, and I absolutely love it! I remember watching it when I was about 12 / 13 years old and I can still go back to it today with the same enjoyment . For an anime that is focused on children, it tends to be surprisingly deep . Friendship, honesty, hard work, TEAM-work, etc are all in the foundation of this series . The characters are fun and interesting to watch and there are a lot of comedy-gold moments throughout the series . There are however an equal amount of heart-string pulling moments that will break your heart .'],\n",
       " [\" As a whole, Digimon is a pretty good, but very flawed, show . The storylines are usually interesting, and there's several cool sci-fi episodes . Most episodes are plot important in some way or another . The main flaw is that the animation and direction are mediocre and can often not give episodes the epic feeling they should have .\"],\n",
       " [' The art style has a lot of sharper colors and simpler character designs . The biomes in season 1 and the city designs in the later part of the show were the best drawn things involved . I enjoyed digimon a lot, it was a charming show of my youth and i still play the games and such now that i am older. Reminds me of a simpler time and all that. A very nice world all around, very creative. I think even a mature audience will appreciate this show in the same way people appreciate it still .'],\n",
       " [' [ANIME_NAME] 01 or more simply known as Digimon season 1 in North America is about seven children who have gone to camp for the summer when it starts snowing . While snowing seven mysterious gadgets fall from the sky and they are transported to another world . When they wake up in this world, they are not really sure where they are . All they know is each one of them has this tiny creature following them around who introduce themselves as digital monsters, or digimon for short . Upon arrival they also meet their first enemy, a huge digimon who chases the eight children onto a cliff . With nowhere else to turn their digimon partners begin attacking the Kwagamon . With this new stronger form, the children are able to push back',\n",
       "  \" The story seemed to flow smoothly from start to finish . The way the author created the many types of digimon, their digivolutions, and even the world where they lived was imaginative . The children soon learn that to get back home, they will have to put aside their differences and work as a team . With their digimon to help them along, they know they can overcome every challenge they're faced with . All in all the story along with the characters, made for a very enjoyable series .\",\n",
       "  ' [CHAR] Tachikawa is the spoiled rich girl who always complains, but is sensitive and caring . [CHAR] Kido is the reliable guy who is always prepared no matter the situation . Koshiro \"[CHAR]\" Izumi is always looked to when there\\'s a problem . [CHAR] \"TK\" Takashi is [CHAR]\\'s younger brother . [CHAR] \"[CHAR]\" Kagiyama is [CHAR]\\'s younger sister. She is kind and gentle. Her digimon partner is Gatomon .',\n",
       "  \" The art style gives this series a unique flare . It's American and Japan cartoon style almost mixed together . The voice acting was a lot smoother in the Japanese dub . The English opening is one that is very recognizable and gives you a feeling of nostalgia if you watched it when you were younger . Enjoyment and Overall 9/10 I very much enjoyed this series. It was humorous and light but also had its more serious and dark moments .\"],\n",
       " [\" Ugh, I love this show more than Pokemon. I've balled my eyes out on so many occasions. Plus, the characters are actually pretty awesome looking, despite the simplicity of it all . Highly recommend watching it. You'll learn the true power of friendship... without ponies .\"],\n",
       " [\" The story of Digimon is what makes it the amazing series it is . The best part of the series to me was when the children finally defeated [CHAR] and went after the eighth child . The way apocolymon was easily defeated in the end showed that the truth was being told that the dark masters were the strongest enemies, and that if they were defeated, no enemies would give em a hard time . The digimon are great because they don't look to cute and cuddly and not too overdone .\",\n",
       "  \" The first 15 episodes were forced upon me because the voices of the digimon weren't stable yet . The only digimon I did not like was lilimon, maybe because she was too human-esque . I really like the background music played throughout the series, during happy and sad moments, and the theme song is very catchy . Overall: digimon is a must see. It's a flashback from the 90s and will bring back so many memories . It is also a very enjoyable series that would occupy you for days without you noticing . It also has a sequel, which I will review as well .\"],\n",
       " [\" The English dub for it is also laughably bad at many points with Saban peppering in enough cheesy lines and jokes to make this series accessible to younger American audiences . This fares better than Pokemon which is focused too much on Satoshi/ Ash's neverending Pokemon master [CHAR]rney and the relationships the trainers have with their Pokemon . Visually, [ANIME_NAME] 01's artwork isn't anything to scream out loud about . It's not groundbreaking in anyway, but I wouldn't mind watching it now and then .\"],\n",
       " [\" If you show this anime for a kid with less than 9 years old, maybe it will enjoy it... but if you are a nostalgic guy like me who THINKS that will have some fun, PLEASE don't MESS UP YOUR CHILDHOOD GOOD MEMORIES about this anime . I just scored 5 this anime because of my nostalgic and the really good premise . To be fair, the soundtrack is good. That's the only technic aspect that worths a good mention .\"],\n",
       " [' When I was a kid, I would sometimes stay home from school to catch that one episode before everyone else, but sometimes I found myself severally disappointed in the episodes . The scenery, especially when it was supposed to convey something in the distance, well it looked a lot like the background of a fish tank . Character wise, it was very awkward in the beginning, even if some of the characters knew each other . I think the creators went a little too out of their way to create this cast of people with several different personalities .'],\n",
       " [' [ANIME_NAME] is the first show from my childhood that I\\'ve given the time and effort to rewatch and has dissappointed me massively . While a lot of this dissappointment might come from the fact that I watched the Latin American dub of the show (which is not how I usually watch other shows, and is really badly produced) I still can\\'t imagine how anybody over the age of 15 could seriously enjoy this show as a whole, unlike other \"childhood anime\" like Dragon Ball, Yu-gi-Oh, or Pokemon . The story is completely forgettable unless you rewatch it countless times .',\n",
       "  ' It is also 54 episodes but somehow manages to have an extremely rushed pacing . Every battle (which pretty much every episode has one) follows the same order of events: Bad Digimon appears, one or all of the good Digimon fight it and they either win in one attack or Digivolve through the Power of Crying or Shouting or Friendship or whatever you wanna call it, then attack once again and win. And when I mean once, I really do mean once . The thing is that would be fine if the art was any good .',\n",
       "  \" There is nothing here for an adult, and I personally wouldn't want a kid of my own to see it, with or without me . There's better kid shows out there that just want to be dumb kid shows and sell toys . Overall, don't watch this show, not worth it at all . Soundtrack is great though .\"],\n",
       " [' The story takes place in the Digital world where six humans after falling from the real world gets introduced to the Digimon . The show characters has some strong personalities, While the story also later in the show will have you keep watching as it comes with twists you will have never imagined . If you like Adventure typed Animes this is truly a must watch .'],\n",
       " [\" There are certain things in the series that worked pretty well and other stuff that should've been put to the side . The characters are all really interesting and have unique qualities to them . The main characters as kids make it easy to relate to them, due to the fact that most people these days re-watch Digimon for nostalgic reasons, rather than the story . The creators probably thought that the kids who watched the first season would grow into teenagers, therefore the characters should be teenagers as well . It is, perhaps, one of the worst decisions ever made .\",\n",
       "  \" The story is predictable and nothing new or interesting comes up in the storyline as it moves along . The visuals aren't bad, but just like the story, there isn't anything special going on with the art-style . The plot and art are nothing spectacular, but get the job done . If you like Pokemon, then I would highly encourage you to see Digimon. And no, it is not a ripoff of Pokemon, although many people believe this to be true .\"],\n",
       " [\" This anime serie's inbetween the airing of the 2nd and 3rd season around the early 2000's brought back the digital pet era . The story started nice and further developed into a damn dark story as well the villians intro, and the present life of the digimon and their purpose . Charach are nicely animated, digital animation more or less with real fitting music , both intro as througout the show! transformed digimon chara were some of my fav things to see and damn good design's .\"],\n",
       " [\" English dubs are the best I've ever heard . Characters were annoying but in overall they made one complete story . Art has really good art for anime . The ending was amazing it put me when i was going to cry at the end . I think you can watch it on netflix it wIll cost but not a lot but you have so many pounds a mouth . I've rewatch'd it and even though I'm 22 years old now I still enjoy it .\"],\n",
       " [' [ANIME_NAME] centres around a group of kids that are transported from the real world to a digital one . It’s in this digital world that they discover the digimon, the creatures that inhabit it, each getting a digimon partner to protect them as they explore it . What starts as a show about a bunch of kids with pet monsters exploring and saving a new world from evil, ends as something much more conceptually and tonally synthetic .',\n",
       "  \" The way it explores the psychological impact on the main, adolescent cast is one of the show's greatest merits . Many of the fights are brutal and destructive, leading to consequences, not only for the story, but the characters . Unfortunately, despite the show’s many virtues, even it is not without shortcomings . The battles are also very anticlimactic, frequently ending in one attack, thus undercutting the established and built on tension . The background, and foreground details to the story are very well explained. Stuff like the reason the children are in the digital world, or why they were the ones chosen to go to it in the first place .\",\n",
       "  ' The main cast are all introduced as rather cookie-cutter archetypes, and don’t really grow beyond that over the course of the series . Some of the human drama that transpires is rather questionable . Aside from these few issues though, [ANIME_NAME] has a very solid story .',\n",
       "  \" The characters' backstories are justified fairly well through their backstories, giving them a sense of humanity past the played out nature of their exteriors . The amount of character growth they undergo is amazing, standard as it is, more than making up for their creatively lacking personalities . The way the characters influence each other’s growth is a sight to behold . This is of course [CHAR], a character that really exemplifies [ANIME_NAME]'s character writing capacity, and one that deserves being talked about in more detail .\",\n",
       "  ' The digimon partners personality wise are essentially watered down versions of their partners . The villains have a lot more of a presence . While they’re not that deep or thought provoking as characters, given that their motivation for acting is simply because they want too, what they represent is really intriguing. Each is twisted version of humanity in design and actions, that tries to take over the anarchic digital world and bringing order to it .',\n",
       "  ' The art and animation are pretty good, despite being made in the 9Os . The show just has this timeless intensely visually cartoony atmosphere and style to it . Despite including the dreaded abomination that is CGI, the show manages to make very good use of it in the scenes that include it . The original soundtrack is pretty good overall . The OST by Takanori Arisawa of Sailor Moon fame is fine for the most part, but where the show’s soundtrack really shines is in the opening themes . The dub & sub are both fairly good, but I prefer the dub over the sub for nostalgic reasons, despite the fact it cuts some of the more serious parts of the show .',\n",
       "  \" [ANIME_NAME] has cool characters, adventure, big monster fights, and a very interesting world . It was one of the first anime I watched as a kid, and it will always be one of my all time favorites . It's recommended that you go for the sub if you want to see the slightly more serious original version . On the other hand, consider looking towards the more mature Digimon Tamers, written by Chiaki J. Konaka, the writer of Serial Experiments Lain, Texhnolyze and Ghost Hound .\"],\n",
       " [\" The story is almost like Lost (the famous american drama about a group of people stuck on a deserted island) in the way the poor protagonists deal with being stuck in the Digi-world . It's hard to rate this since it's a kids show that I watched together with my daughter and did not watch it when I was a kid, thus no emotional attachment to it . If you've got kids of your own, this is not exchangeable with Pokemon, it is lots of scary stuff going on and for my daughter, she was too young for it . So we'll be having a Sailor Moon marathon instead .\"],\n",
       " [\" The opening and English soundtrack has got to be one of the most grating things I've ever heard in an anime . The English script for this show was a little painful, riddled with bad puns that made me cringe more often than laugh . The character designs were simple, the backgrounds pastel blurs... And then there were a few dub-only problems... Some may not think it fair to include them, but as I watched this show (and continue to rewatch this show) in English, these problems can't be ignored when I go to sum up my view of this show .\"],\n",
       " [' One of the Anime always horribly overrated due to nostalgia . The episodes are not only episodic, but highly repetitive . The entire \"story\" (if you even want to call it this) is pretty much: \"We get in the digital world. Some villains do appear. We need to fight. Hurray, Deus Ex Ex Machina saves the day\"',\n",
       "  ' The characters are just horrible stereotypes with mostly not one single bit of originality to it . Only two exceptions would be [CHAR], who is a classy hero, but at least has some decent character development . The animation is horrible, even by the standards of 1999 . The soundtrack is quite nice, but cannot make up for the series overall problems when it comes to story and characters . If this series would have not been the first Digimon series to air, I am quite sure, it would be well hated within the fandom .'],\n",
       " [\" The anime has a good adventure, but the construction of the script is kind of lazy and a bit sloppy . Each main character has a different personality, as do his digimons as well, making a good interaction between them from the beginning of the anime to the end . The anime action scenes are good overall, but some end up too fast and others are pretty repetitive . Overall, Digimon is simple, but it's fun after all .\",\n",
       "  ' Aventura em dois worlds diferente, boa interação entre personagens (humanos e digimons) trilha sonora marcante, bom uso dos vilões na trama e as digievolutions (é lógico!!) Apesar do anime ter uma boa aventura, a construção do roteiro is meio preguiçosa e um pouco desleixada .'],\n",
       " [' The story tell you the bond between the digimons and the choosen children, and their friendship . The 8 choosen (7 in beginning and 1 join later) children called by someone mysterious to save the digital world from digimon whom seek for destruction . Character development in the character . Enjoyment : 8 From my point of view back then when i was child. i so enjoyed this series. So not long ago i tried again to rewatch . Though there are many people said that this is just for kid, but sometimes adult enjoyed this show too .'],\n",
       " [' Story is amazing, about a few kids who go to a summer camp, then get teleported to a digital world . But it\\'s slightly predictable because a villain will come up and fight them . But the best part about that is that there are several twists,(a new villain, new stage, drawback) which makes it amazing and brings a chill down your spine . Art 10/10 I love that \"old\" style of art, it reminds me when i was a little girl . The fights and transformation scenes are awesome . Overall, i really enjoyed this anime .'],\n",
       " [\" When I was little, around six or so years old, I came across a commercial that looked like Pokemon...but it wasn't . Some time later, I found it on TV and became immersed by it . Recently, thanks to my Digimon high, I managed to find, and watch, all the Japanese episodes with English subtitles, and I finished it! The story's rather simple. During summer camp, seven young kids get swept into this new world called the Digital World . There, they each receive a Digimon partner who either matches or is opposite their personality . They go through various adventures as they have to save both their world and their world from various dastardly villains .\",\n",
       "  ' Despite the animation\\'s slight flaws, it did grab my attention when I was little, and it sure branded itself into my memory . The music...honestly, I don\\'t remember the soundtracks for either the Japanese or English versions at all . The English version used it\\'s cheesy \"Hey Digimon\" insert song, which I remember very well as it used to be one of my favorites . I loved Brave Heart, though I have to admit, I wish they didn\\'t use it for every single episode . This seems to be a thing in all Digimon shows . Digimon Xros Wars, the most recent season, happens to be the worst case as it uses many different insert songs in ONE episode alone .',\n",
       "  \" The characters, while a bit cliched, are charming in a way . I didn't really like either ending songs for the Japanese versions of this though . I feel that the English dub did a better job at casting and giving fitting voices to the characters than the Japanese . Some of the voices in Japanese really made my ears bleed, like [CHAR], [CHAR] (and Angemon! The Japanese made him sound like a little boy! Thank God the English version gave him a manlier voice!), Palmon, [CHAR], and [CHAR]!\",\n",
       "  \" Digimon portrays children and their struggles almost perfectly . It's a kid show, but it doesn't talk down to it's audience . It doesn't shy away from dark themes and subjects . While it's not Pokemon, Digimon is it's own entity, and a great one at that, and it will always have a place in my heart next to Pokemon . Now if only someone will re-release this and all the other seasons on DVD, it's a shame how low the franchise has gone nowadays (Digimon Hunters)\"],\n",
       " [\" The anime chronicles the adventures of a group of kids from summer camp who befriended a select group of monsters called Digimon . The success and popularity of the anime as well as it's longevity makes the series being regarded as one of the best animes of all time . The team consists of eight kids and their Digimon Partners .\"],\n",
       " [' The original idea behind this show was \"12 episodes, quick marketing with toys\" which quickly digi-volved into a grand 57 Episode series . The part that made this so great, was the characters. with the 7(eventualy 8) Protaganists, it\\'s hard to not relate to at least one of them . The initial characters look like your basic Stereotypes, from the Cool kid, Nerd, Tomboy, Valley Girl, and Glasses guy, quickly evolves into a host of relatable characters and we realize why stereotypes exist . Adding the parents into the lives of the children was possibly he greatest thing!',\n",
       "  \" The Parents in Digimon are more than fixtures to move the plot, from the divorced couple, to the perfect parents, and the loving, yet secretive, secretive parents . Villans have neat designs and very shallow reasons...but this show is intended for young children . The Action is standard, PUNCH, KICK, Special Attack, DODGE! Overall, the plot isn't the focus, the Writing is, and thats where the draw lies .\",\n",
       "  \" The difference between the Real and Digital world is Dramatic simply from a Color Swap, from Bright to a Dull, mood changing tone . It's for Kids, Kids will love it, and once you've seen it, you'll know why I still remember those amazing moments 11 Years later as I rewatch just to catch them agian . The Key Dramatic moments that even the Horrible people who hacked the Show to Censored English Bits knew they couldn't remove, is how much impact they leave . If I showed you just those Scenes you'd know how much of an impact this show can have, and we have plenty of them!\"],\n",
       " [\" Finnish dubs are the best I've ever heard . Story is really great, but not in the start . Art is really good for anime that was created 14 years ago . Personal favorite characters are [CHAR], [CHAR], Koshiro and [CHAR] (somehow) I've rewatch'd it and even though I'm 18 years old now I still enjoy'd it really much .\"],\n",
       " [' When I was really little, I fell in love with the show but I didn’t know how chopped up the English dub was . I liked that they put more depth into the characters and the story lines made sure you could see the characters grow . Unfortunately, as with all shows that have way too many characters in the spotlight, we end up seeing more of one character then the others .',\n",
       "  ' Out of all the characters, I have to say my favorite is [CHAR] . I would have loved to see more of the characters backgrounds rather then little bits of three or four characters . The bad guys are very one dimensional . I wish they could have added a bit more to them but at least they each have a type of personality . The English voices are pretty good and bounce off each other nicely .'],\n",
       " [' This is a perfect example of a classic, something that still blows your mind even after years of not seeing it . I liked almost everything about this anime and the \"cyberpunk\" story of it . The story was very heartfelt and the characters were very realistic . The last episodes 36 up until the last episodes are some of the most entertaining moments of any media I\\'ve ever witness .'],\n",
       " [\" The ending is both happy and very sad (at this point I always seemed to cry T_T) The show gives a string of moral lessons, and gives the children a purpose they seemed to lack before . The children have by then become very mature, but still less to make them recognizable as children after all . The second and later arcs represent the main struggle, and the show becomes even more appealing, to the point that you can't leave it anymore . The character development also take place during this arc, along with that touch of emotional feel . Afterwards the Vandemon arc puts an end to the many dissatisfactions affecting the children among themselves and their loved ones, finally creating a formidable team before the last arc .\",\n",
       "  ' Storywise I think it was almost perfect in that it did marvellously well for its demographic group . Art is surprisingly brilliant for 1999, with a harmonious blend of computer-made graphics and hand-drawn cartoons, excepting a few micro-flaws that is. 9/10 The soundtrack was my most favourite part (and by that I mean the subbed version) as it keeps you on track and glued to the show. 10/10 As for enjoyment the show is very good in this regard and has a tendency to keep people glued to it till the end. As mentioned before character development is very prominent in the series and the characters themselves leave a profound impact on the viewer .'],\n",
       " [\" The depth of each and every character is so great that it really sucks you in . The lead character [CHAR] Yagami starts to get interesting only at about Episode 20 . Allmost all of the other chacters have a destinct history and you want them to go through that struggle and come out victorious . They're likable, deep, well designed, funny, dramatic, enjoyable .\",\n",
       "  \" The animation style shows, it's still an experimental series in a way, that the following series got a way higher budget and so forth have a better more elaborate animation . The most ingenious move was to take the japanese music with the english names of digimon and people . The villains on the other hand are pretty basic. They are destinct and some of them are really funny but still there is not much of a quality behind being evil . But this is the compromise you make, because this series isn't about the villains. The stage belongs to the main characters.\",\n",
       "  \" The songs are legendary. I remember even as a child I was singing the opening whenever the series was on. And now as an adult it hasn't changed one bit. Some of the insert songs can be a little sentimental but over all it was very good music. To sum it up, digimon is not only a great series. It's an experience which brings you deeper than any other series of that content before. With this we had more memorable names and the unbelievable music of the japanese original. If you haven't heard any of it check it out. You won't be disappointed.\"],\n",
       " [' [ANIME_NAME] surely is compared to Pokémon, but not even close to be the same thing . I mean, its very Nostalgic, to say the least! I remember seeing it when i was only a 7~8y in the living room screaming for [CHAR] and company to beat the \"digibaddiels\" up . After 18 years i started rewatching it for the MAL anime challenge, and OH BOY IM GLAD I DID. It is fun, has a lot of memorable moments . Im no anime expert, but i surely recommend this, it\\'ll surely make you entertained the entire rid']]"
      ]
     },
     "execution_count": 13,
     "metadata": {},
     "output_type": "execute_result"
    }
   ],
   "source": [
    "b[552]"
   ]
  }
 ],
 "metadata": {
  "kernelspec": {
   "display_name": "Python 3.9.9 64-bit (system)",
   "language": "python",
   "name": "python3"
  },
  "language_info": {
   "codemirror_mode": {
    "name": "ipython",
    "version": 3
   },
   "file_extension": ".py",
   "mimetype": "text/x-python",
   "name": "python",
   "nbconvert_exporter": "python",
   "pygments_lexer": "ipython3",
   "version": "3.9.9"
  },
  "orig_nbformat": 4,
  "vscode": {
   "interpreter": {
    "hash": "93f1965ce6100b59cc68242dd9d2313ffb6cf6edc00db502dc336e4c50bfb553"
   }
  }
 },
 "nbformat": 4,
 "nbformat_minor": 2
}
