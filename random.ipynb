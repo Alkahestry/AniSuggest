{
 "cells": [
  {
   "cell_type": "code",
   "execution_count": 1,
   "metadata": {},
   "outputs": [],
   "source": [
    "%matplotlib inline\n",
    "\n",
    "import numpy as np\n",
    "\n",
    "import pandas as pd\n",
    "\n",
    "import matplotlib.pyplot as plt\n",
    "\n",
    "from sklearn.neighbors import NearestNeighbors\n",
    "\n",
    "from scipy.spatial.distance import cosine\n",
    "\n",
    "from sklearn.feature_extraction.text import CountVectorizer, TfidfTransformer"
   ]
  },
  {
   "cell_type": "code",
   "execution_count": 2,
   "metadata": {},
   "outputs": [],
   "source": [
    "import re\n",
    "\n",
    "import string\n",
    "\n",
    "from wordcloud import WordCloud, STOPWORDS\n",
    "\n",
    "from sklearn.metrics import mean_squared_error\n",
    "\n",
    "import pickle"
   ]
  },
  {
   "cell_type": "code",
   "execution_count": 5,
   "metadata": {},
   "outputs": [],
   "source": [
    "anime_info = pd.read_pickle('data/anime_info.pickle')"
   ]
  },
  {
   "cell_type": "code",
   "execution_count": 6,
   "metadata": {},
   "outputs": [],
   "source": [
    "with open('data/processed1.pickle', 'rb') as handle:\n",
    "    data = pickle.load(handle)"
   ]
  },
  {
   "cell_type": "code",
   "execution_count": 7,
   "metadata": {},
   "outputs": [],
   "source": [
    "# def flatten(l):\n",
    "#     return [item for sublist in l for item in sublist]"
   ]
  },
  {
   "cell_type": "code",
   "execution_count": 8,
   "metadata": {},
   "outputs": [],
   "source": [
    "data_list = []\n",
    "#Iterate through each anime in the data\n",
    "for i in data.keys():\n",
    "    #Iterate through each review in the anime (string/list of strings)\n",
    "    for j in range(len(data[i])):\n",
    "        #If type of the review is string, add it to data list\n",
    "        if type(data[i][j]) == str:\n",
    "            data_list.append(data[i][j])\n",
    "        #If type of the review is list, add each string in the list to data list\n",
    "        elif type(data[i][j]) == list:\n",
    "            for k in range(len(data[i][j])):\n",
    "                data_list.append(data[i][j][k])\n",
    "    data[i] = data_list\n",
    "    data_list = []"
   ]
  },
  {
   "cell_type": "code",
   "execution_count": 9,
   "metadata": {},
   "outputs": [],
   "source": [
    "# with open('processed1.pickle', 'rb') as handle:\n",
    "#     data1 = pickle.load(handle)"
   ]
  },
  {
   "cell_type": "code",
   "execution_count": 10,
   "metadata": {},
   "outputs": [],
   "source": [
    "from sklearn.feature_extraction.text import TfidfVectorizer\n",
    "\n",
    "from sklearn.metrics.pairwise import cosine_similarity\n",
    "\n",
    "# tf = TfidfVectorizer(analyzer='word', ngram_range=(1, 3), min_df=0, stop_words='english')"
   ]
  },
  {
   "cell_type": "code",
   "execution_count": 11,
   "metadata": {},
   "outputs": [
    {
     "data": {
      "text/plain": [
       "dict_keys([34096, 34599, 28891, 2904, 4181, 16664, 4672, 5114, 30276, 8038, 1253, 1425, 7588, 20767, 35363, 22673, 6862, 451, 9563, 30364, 33280, 36369, 27633, 8609, 34944, 36214, 5680, 31637, 552])"
      ]
     },
     "execution_count": 11,
     "metadata": {},
     "output_type": "execute_result"
    }
   ],
   "source": [
    "data.keys()"
   ]
  },
  {
   "cell_type": "code",
   "execution_count": 12,
   "metadata": {},
   "outputs": [
    {
     "name": "stdout",
     "output_type": "stream",
     "text": [
      "490\n"
     ]
    }
   ],
   "source": [
    "#Get list of reviews\n",
    "reviews = []\n",
    "for i in data.keys():\n",
    "    for j in data[i]:\n",
    "        #j is not list\n",
    "        if type(j) is not list:\n",
    "            reviews.append(j)\n",
    "        #j is list\n",
    "        else:\n",
    "            for k in j:\n",
    "                reviews.append(k)\n",
    "print(len(reviews))"
   ]
  },
  {
   "cell_type": "code",
   "execution_count": 25,
   "metadata": {},
   "outputs": [],
   "source": [
    "def get_key(val):\n",
    "    for key, value in data.items():\n",
    "         if val in value:\n",
    "             return key\n",
    "def get_id(index):\n",
    "    return get_key(reviews[index])"
   ]
  },
  {
   "cell_type": "code",
   "execution_count": 14,
   "metadata": {},
   "outputs": [],
   "source": [
    "vec = TfidfVectorizer()\n",
    "X = vec.fit_transform(reviews)"
   ]
  },
  {
   "cell_type": "code",
   "execution_count": 15,
   "metadata": {},
   "outputs": [],
   "source": [
    "doc_term_matrix = X.toarray()"
   ]
  },
  {
   "cell_type": "code",
   "execution_count": 16,
   "metadata": {},
   "outputs": [],
   "source": [
    "#Music related\n",
    "#Unique art style\n",
    "test_string = \"Unique art style\""
   ]
  },
  {
   "cell_type": "code",
   "execution_count": 17,
   "metadata": {},
   "outputs": [],
   "source": [
    "sparse_matrix = vec.fit_transform([test_string]+reviews)\n",
    "cosine = cosine_similarity(sparse_matrix[0,:],sparse_matrix[1:,:])"
   ]
  },
  {
   "cell_type": "code",
   "execution_count": 18,
   "metadata": {},
   "outputs": [],
   "source": [
    "import pandas as pd"
   ]
  },
  {
   "cell_type": "code",
   "execution_count": 19,
   "metadata": {},
   "outputs": [
    {
     "name": "stdout",
     "output_type": "stream",
     "text": [
      "       cosine                                            strings\n",
      "294  0.307578   The art style for K-on is actually pretty uni...\n",
      "489  0.259407   The art style gives this series a unique flar...\n",
      "95   0.218054   A very unique art style to go along with its ...\n",
      "12   0.171172   The art style for this anime was very unique,...\n",
      "389  0.149604   The story wasn’t really a strong point of K-O...\n",
      "..        ...                                                ...\n",
      "212  0.000000   The anime is really good animated, particular...\n",
      "211  0.000000   Don't take this anime seriously. Watch it wit...\n",
      "210  0.000000   The anime is a fun and relaxing anime to watc...\n",
      "37   0.000000   If you watched the first Clannad and loved it...\n",
      "279  0.000000   The strange and (in my opinion) great thing a...\n",
      "\n",
      "[490 rows x 2 columns]\n"
     ]
    }
   ],
   "source": [
    "print(pd.DataFrame({'cosine':cosine[0],'strings':reviews}).sort_values('cosine',ascending=False))"
   ]
  },
  {
   "cell_type": "code",
   "execution_count": 20,
   "metadata": {},
   "outputs": [
    {
     "data": {
      "text/plain": [
       "['さらい屋 五葉', 'Saraiya Goyou', 'House of Five Leaves']"
      ]
     },
     "execution_count": 20,
     "metadata": {},
     "output_type": "execute_result"
    }
   ],
   "source": [
    "anime_id = get_key(reviews[95])\n",
    "anime_info[anime_id].names"
   ]
  },
  {
   "cell_type": "code",
   "execution_count": 21,
   "metadata": {},
   "outputs": [],
   "source": [
    "result = pd.DataFrame({'cosine':cosine[0],'strings':reviews}).sort_values('cosine',ascending=False)"
   ]
  },
  {
   "cell_type": "code",
   "execution_count": 27,
   "metadata": {},
   "outputs": [
    {
     "name": "stdout",
     "output_type": "stream",
     "text": [
      "K-ON!\n",
      "Digimon: Digital Monsters\n",
      "House of Five Leaves\n",
      "Made in Abyss\n",
      "K-ON!\n",
      "House of Five Leaves\n",
      "K-ON!\n",
      "K-ON!\n",
      "House of Five Leaves\n",
      "K-ON!\n"
     ]
    }
   ],
   "source": [
    "ids = result.index[:].tolist()\n",
    "for i in ids[:10]:\n",
    "    print(anime_info[get_id(i)].names[2])"
   ]
  },
  {
   "cell_type": "code",
   "execution_count": 19,
   "metadata": {},
   "outputs": [],
   "source": [
    "def vect_cos(vect, test_list):\n",
    "    \"\"\" Vectorise text and compute the cosine similarity \"\"\"\n",
    "    query_0 = vect.transform([' '.join(vect.get_feature_names())])\n",
    "    query_1 = vect.transform(test_list)\n",
    "    cos_sim = cosine_similarity(query_0.A, query_1.A)  # displays the resulting matrix\n",
    "    return query_1, np.round(cos_sim.squeeze(), 3)"
   ]
  },
  {
   "cell_type": "code",
   "execution_count": 20,
   "metadata": {},
   "outputs": [
    {
     "data": {
      "text/plain": [
       "{'male': 5,\n",
       " 'protagonist': 6,\n",
       " 'fall': 1,\n",
       " 'in': 3,\n",
       " 'love': 4,\n",
       " 'with': 8,\n",
       " 'single': 7,\n",
       " 'female': 2,\n",
       " 'antagonist': 0}"
      ]
     },
     "execution_count": 20,
     "metadata": {},
     "output_type": "execute_result"
    }
   ],
   "source": [
    "test_string = \"Male protagonist fall in love with single female antagonist\"\n",
    "train = [test_string]\n",
    "# vectorizer = CountVectorizer(stop_words='english').fit(train)\n",
    "vectorizer = CountVectorizer().fit(train)\n",
    "vectorizer.vocabulary_"
   ]
  },
  {
   "cell_type": "code",
   "execution_count": 21,
   "metadata": {},
   "outputs": [
    {
     "name": "stdout",
     "output_type": "stream",
     "text": [
      "cosine similarity for test string and anime\n",
      "\n",
      " Gintama Season 5 : 0.469.\n",
      "\n",
      " Made in Abyss : 0.525.\n",
      "\n",
      " HAIKYU!! 2nd Season : 0.447.\n",
      "\n",
      " Code Geass: Lelouch of the Rebellion R2 : 0.465.\n",
      "\n",
      " Clannad: After Story : 0.502.\n",
      "\n",
      " The Tale of The Princess Kaguya : 0.471.\n",
      "\n",
      " Ghost in the Shell 2.0 : 0.422.\n",
      "\n",
      " Fullmetal Alchemist: Brotherhood : 0.0.\n",
      "\n",
      " One-Punch Man : 0.556.\n",
      "\n",
      " Nodame Cantabile Finale Special : 0.333.\n",
      "\n",
      " Saint Seiya: The Hades Chapter - Inferno : 0.398.\n",
      "\n",
      " Lupin the 3rd Part 2 : 0.498.\n",
      "\n",
      " House of Five Leaves : 0.494.\n",
      "\n",
      " Noragami OVA : 0.509.\n",
      "\n",
      " Miss Kobayashi's Dragon Maid: Valentines and Hot Springs! (Please Don't Get Your Hopes Up) : 0.471.\n",
      "\n",
      " Kuroko no Basket 2 NG-shuu : 0.0.\n",
      "\n",
      " K-ON!: Live House! : 0.471.\n",
      "\n",
      " InuYasha the Movie 3: Swords of an Honorable Ruler : 0.333.\n",
      "\n",
      " Hidamari Sketch x Hoshimittsu Specials : 0.333.\n",
      "\n",
      " Haikyuu!! the Movie: The Winner and the Loser : 0.333.\n",
      "\n",
      " Is the Order a Rabbit?? ～Dear My Sister～ : 0.412.\n",
      "\n",
      " Legend of the Galactic Heroes: Die Neue These Second : 0.333.\n",
      "\n",
      " Monthly Girls' Nozaki-kun Specials : 0.0.\n",
      "\n",
      " Case Closed: Kid in Trap Island : 0.333.\n",
      "\n",
      " Bungou Stray Dogs: DEAD APPLE : 0.484.\n",
      "\n",
      " Kase-san and Morning Glories : 0.502.\n",
      "\n",
      " K-ON! : 0.494.\n",
      "\n",
      " Gate 2 : 0.491.\n",
      "\n",
      " Digimon: Digital Monsters : 0.415.\n"
     ]
    },
    {
     "name": "stderr",
     "output_type": "stream",
     "text": [
      "e:\\Python\\.venv\\lib\\site-packages\\sklearn\\utils\\deprecation.py:87: FutureWarning: Function get_feature_names is deprecated; get_feature_names is deprecated in 1.0 and will be removed in 1.2. Please use get_feature_names_out instead.\n",
      "  warnings.warn(msg, category=FutureWarning)\n",
      "e:\\Python\\.venv\\lib\\site-packages\\sklearn\\utils\\deprecation.py:87: FutureWarning: Function get_feature_names is deprecated; get_feature_names is deprecated in 1.0 and will be removed in 1.2. Please use get_feature_names_out instead.\n",
      "  warnings.warn(msg, category=FutureWarning)\n",
      "e:\\Python\\.venv\\lib\\site-packages\\sklearn\\utils\\deprecation.py:87: FutureWarning: Function get_feature_names is deprecated; get_feature_names is deprecated in 1.0 and will be removed in 1.2. Please use get_feature_names_out instead.\n",
      "  warnings.warn(msg, category=FutureWarning)\n",
      "e:\\Python\\.venv\\lib\\site-packages\\sklearn\\utils\\deprecation.py:87: FutureWarning: Function get_feature_names is deprecated; get_feature_names is deprecated in 1.0 and will be removed in 1.2. Please use get_feature_names_out instead.\n",
      "  warnings.warn(msg, category=FutureWarning)\n",
      "e:\\Python\\.venv\\lib\\site-packages\\sklearn\\utils\\deprecation.py:87: FutureWarning: Function get_feature_names is deprecated; get_feature_names is deprecated in 1.0 and will be removed in 1.2. Please use get_feature_names_out instead.\n",
      "  warnings.warn(msg, category=FutureWarning)\n",
      "e:\\Python\\.venv\\lib\\site-packages\\sklearn\\utils\\deprecation.py:87: FutureWarning: Function get_feature_names is deprecated; get_feature_names is deprecated in 1.0 and will be removed in 1.2. Please use get_feature_names_out instead.\n",
      "  warnings.warn(msg, category=FutureWarning)\n",
      "e:\\Python\\.venv\\lib\\site-packages\\sklearn\\utils\\deprecation.py:87: FutureWarning: Function get_feature_names is deprecated; get_feature_names is deprecated in 1.0 and will be removed in 1.2. Please use get_feature_names_out instead.\n",
      "  warnings.warn(msg, category=FutureWarning)\n",
      "e:\\Python\\.venv\\lib\\site-packages\\sklearn\\utils\\deprecation.py:87: FutureWarning: Function get_feature_names is deprecated; get_feature_names is deprecated in 1.0 and will be removed in 1.2. Please use get_feature_names_out instead.\n",
      "  warnings.warn(msg, category=FutureWarning)\n",
      "e:\\Python\\.venv\\lib\\site-packages\\sklearn\\utils\\deprecation.py:87: FutureWarning: Function get_feature_names is deprecated; get_feature_names is deprecated in 1.0 and will be removed in 1.2. Please use get_feature_names_out instead.\n",
      "  warnings.warn(msg, category=FutureWarning)\n",
      "e:\\Python\\.venv\\lib\\site-packages\\sklearn\\utils\\deprecation.py:87: FutureWarning: Function get_feature_names is deprecated; get_feature_names is deprecated in 1.0 and will be removed in 1.2. Please use get_feature_names_out instead.\n",
      "  warnings.warn(msg, category=FutureWarning)\n",
      "e:\\Python\\.venv\\lib\\site-packages\\sklearn\\utils\\deprecation.py:87: FutureWarning: Function get_feature_names is deprecated; get_feature_names is deprecated in 1.0 and will be removed in 1.2. Please use get_feature_names_out instead.\n",
      "  warnings.warn(msg, category=FutureWarning)\n",
      "e:\\Python\\.venv\\lib\\site-packages\\sklearn\\utils\\deprecation.py:87: FutureWarning: Function get_feature_names is deprecated; get_feature_names is deprecated in 1.0 and will be removed in 1.2. Please use get_feature_names_out instead.\n",
      "  warnings.warn(msg, category=FutureWarning)\n",
      "e:\\Python\\.venv\\lib\\site-packages\\sklearn\\utils\\deprecation.py:87: FutureWarning: Function get_feature_names is deprecated; get_feature_names is deprecated in 1.0 and will be removed in 1.2. Please use get_feature_names_out instead.\n",
      "  warnings.warn(msg, category=FutureWarning)\n",
      "e:\\Python\\.venv\\lib\\site-packages\\sklearn\\utils\\deprecation.py:87: FutureWarning: Function get_feature_names is deprecated; get_feature_names is deprecated in 1.0 and will be removed in 1.2. Please use get_feature_names_out instead.\n",
      "  warnings.warn(msg, category=FutureWarning)\n",
      "e:\\Python\\.venv\\lib\\site-packages\\sklearn\\utils\\deprecation.py:87: FutureWarning: Function get_feature_names is deprecated; get_feature_names is deprecated in 1.0 and will be removed in 1.2. Please use get_feature_names_out instead.\n",
      "  warnings.warn(msg, category=FutureWarning)\n",
      "e:\\Python\\.venv\\lib\\site-packages\\sklearn\\utils\\deprecation.py:87: FutureWarning: Function get_feature_names is deprecated; get_feature_names is deprecated in 1.0 and will be removed in 1.2. Please use get_feature_names_out instead.\n",
      "  warnings.warn(msg, category=FutureWarning)\n",
      "e:\\Python\\.venv\\lib\\site-packages\\sklearn\\utils\\deprecation.py:87: FutureWarning: Function get_feature_names is deprecated; get_feature_names is deprecated in 1.0 and will be removed in 1.2. Please use get_feature_names_out instead.\n",
      "  warnings.warn(msg, category=FutureWarning)\n",
      "e:\\Python\\.venv\\lib\\site-packages\\sklearn\\utils\\deprecation.py:87: FutureWarning: Function get_feature_names is deprecated; get_feature_names is deprecated in 1.0 and will be removed in 1.2. Please use get_feature_names_out instead.\n",
      "  warnings.warn(msg, category=FutureWarning)\n",
      "e:\\Python\\.venv\\lib\\site-packages\\sklearn\\utils\\deprecation.py:87: FutureWarning: Function get_feature_names is deprecated; get_feature_names is deprecated in 1.0 and will be removed in 1.2. Please use get_feature_names_out instead.\n",
      "  warnings.warn(msg, category=FutureWarning)\n",
      "e:\\Python\\.venv\\lib\\site-packages\\sklearn\\utils\\deprecation.py:87: FutureWarning: Function get_feature_names is deprecated; get_feature_names is deprecated in 1.0 and will be removed in 1.2. Please use get_feature_names_out instead.\n",
      "  warnings.warn(msg, category=FutureWarning)\n",
      "e:\\Python\\.venv\\lib\\site-packages\\sklearn\\utils\\deprecation.py:87: FutureWarning: Function get_feature_names is deprecated; get_feature_names is deprecated in 1.0 and will be removed in 1.2. Please use get_feature_names_out instead.\n",
      "  warnings.warn(msg, category=FutureWarning)\n",
      "e:\\Python\\.venv\\lib\\site-packages\\sklearn\\utils\\deprecation.py:87: FutureWarning: Function get_feature_names is deprecated; get_feature_names is deprecated in 1.0 and will be removed in 1.2. Please use get_feature_names_out instead.\n",
      "  warnings.warn(msg, category=FutureWarning)\n",
      "e:\\Python\\.venv\\lib\\site-packages\\sklearn\\utils\\deprecation.py:87: FutureWarning: Function get_feature_names is deprecated; get_feature_names is deprecated in 1.0 and will be removed in 1.2. Please use get_feature_names_out instead.\n",
      "  warnings.warn(msg, category=FutureWarning)\n",
      "e:\\Python\\.venv\\lib\\site-packages\\sklearn\\utils\\deprecation.py:87: FutureWarning: Function get_feature_names is deprecated; get_feature_names is deprecated in 1.0 and will be removed in 1.2. Please use get_feature_names_out instead.\n",
      "  warnings.warn(msg, category=FutureWarning)\n",
      "e:\\Python\\.venv\\lib\\site-packages\\sklearn\\utils\\deprecation.py:87: FutureWarning: Function get_feature_names is deprecated; get_feature_names is deprecated in 1.0 and will be removed in 1.2. Please use get_feature_names_out instead.\n",
      "  warnings.warn(msg, category=FutureWarning)\n",
      "e:\\Python\\.venv\\lib\\site-packages\\sklearn\\utils\\deprecation.py:87: FutureWarning: Function get_feature_names is deprecated; get_feature_names is deprecated in 1.0 and will be removed in 1.2. Please use get_feature_names_out instead.\n",
      "  warnings.warn(msg, category=FutureWarning)\n",
      "e:\\Python\\.venv\\lib\\site-packages\\sklearn\\utils\\deprecation.py:87: FutureWarning: Function get_feature_names is deprecated; get_feature_names is deprecated in 1.0 and will be removed in 1.2. Please use get_feature_names_out instead.\n",
      "  warnings.warn(msg, category=FutureWarning)\n",
      "e:\\Python\\.venv\\lib\\site-packages\\sklearn\\utils\\deprecation.py:87: FutureWarning: Function get_feature_names is deprecated; get_feature_names is deprecated in 1.0 and will be removed in 1.2. Please use get_feature_names_out instead.\n",
      "  warnings.warn(msg, category=FutureWarning)\n",
      "e:\\Python\\.venv\\lib\\site-packages\\sklearn\\utils\\deprecation.py:87: FutureWarning: Function get_feature_names is deprecated; get_feature_names is deprecated in 1.0 and will be removed in 1.2. Please use get_feature_names_out instead.\n",
      "  warnings.warn(msg, category=FutureWarning)\n"
     ]
    }
   ],
   "source": [
    "print(\"cosine similarity for test string and anime\")\n",
    "for id in data.keys():\n",
    "    \n",
    "    vect, cos = vect_cos(vectorizer, [' '.join(data[id])])\n",
    "    print('\\n {} : {}.'.format(anime_info[id].names[-1],cos))"
   ]
  },
  {
   "cell_type": "code",
   "execution_count": 98,
   "metadata": {},
   "outputs": [],
   "source": [
    "tgt_transform = vec.transform([test_string]).toarray()\n",
    "tgt_cosine = cosine_similarity(doc_term_matrix,tgt_transform)"
   ]
  },
  {
   "cell_type": "code",
   "execution_count": 41,
   "metadata": {},
   "outputs": [],
   "source": [
    "import numpy as np"
   ]
  },
  {
   "cell_type": "code",
   "execution_count": 42,
   "metadata": {},
   "outputs": [
    {
     "name": "stdout",
     "output_type": "stream",
     "text": [
      "[[0.]\n",
      " [0.]\n",
      " [0.]\n",
      " [0.]\n",
      " [0.]\n",
      " [0.]\n",
      " [0.]\n",
      " [0.]\n",
      " [0.]\n",
      " [0.]\n",
      " [0.]]\n",
      "0\n"
     ]
    }
   ],
   "source": [
    "print(tgt_cosine)\n",
    "#Print highest cosine similarity index\n",
    "print(np.argmax(tgt_cosine))"
   ]
  },
  {
   "cell_type": "code",
   "execution_count": 63,
   "metadata": {},
   "outputs": [
    {
     "name": "stdout",
     "output_type": "stream",
     "text": [
      " Art 9/10: It is great, especially the actions during the critical moments in the game . The pacing is a bit slow until the last 4-5 episodes . There are many very different characters . Most characters are stereotypes and there is not much development . Overall 8/10 .\n"
     ]
    }
   ],
   "source": [
    "print(reviews[np.argmax(tgt_cosine)])"
   ]
  },
  {
   "cell_type": "code",
   "execution_count": 64,
   "metadata": {},
   "outputs": [
    {
     "data": {
      "text/plain": [
       "' Art 9/10: It is great, especially the actions during the critical moments in the game . The pacing is a bit slow until the last 4-5 episodes . There are many very different characters . Most characters are stereotypes and there is not much development . Overall 8/10 .'"
      ]
     },
     "execution_count": 64,
     "metadata": {},
     "output_type": "execute_result"
    }
   ],
   "source": [
    "reviews[5]"
   ]
  }
 ],
 "metadata": {
  "kernelspec": {
   "display_name": "Python 3.9.9 64-bit (system)",
   "language": "python",
   "name": "python3"
  },
  "language_info": {
   "codemirror_mode": {
    "name": "ipython",
    "version": 3
   },
   "file_extension": ".py",
   "mimetype": "text/x-python",
   "name": "python",
   "nbconvert_exporter": "python",
   "pygments_lexer": "ipython3",
   "version": "3.9.9"
  },
  "orig_nbformat": 4,
  "vscode": {
   "interpreter": {
    "hash": "93f1965ce6100b59cc68242dd9d2313ffb6cf6edc00db502dc336e4c50bfb553"
   }
  }
 },
 "nbformat": 4,
 "nbformat_minor": 2
}
