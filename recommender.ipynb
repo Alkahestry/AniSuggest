{
 "cells": [
  {
   "cell_type": "code",
   "execution_count": 1,
   "metadata": {},
   "outputs": [],
   "source": [
    "%matplotlib inline\n",
    "\n",
    "import numpy as np\n",
    "\n",
    "import pandas as pd\n",
    "\n",
    "import matplotlib.pyplot as plt\n",
    "\n",
    "from sklearn.neighbors import NearestNeighbors\n",
    "\n",
    "from scipy.spatial.distance import cosine\n",
    "\n",
    "from sklearn.feature_extraction.text import CountVectorizer, TfidfTransformer\n",
    "\n",
    "from crawler import flatten_data"
   ]
  },
  {
   "cell_type": "code",
   "execution_count": 2,
   "metadata": {},
   "outputs": [],
   "source": [
    "from wordcloud import WordCloud, STOPWORDS\n",
    "\n",
    "from sklearn.metrics import mean_squared_error\n",
    "\n",
    "import pickle\n",
    "\n",
    "import pandas as pd"
   ]
  },
  {
   "cell_type": "code",
   "execution_count": 3,
   "metadata": {},
   "outputs": [],
   "source": [
    "anime_info = pd.read_pickle('data/anime_info.pickle')"
   ]
  },
  {
   "cell_type": "code",
   "execution_count": 4,
   "metadata": {},
   "outputs": [],
   "source": [
    "with open('data/processed11.pickle', 'rb') as handle:\n",
    "    data = pickle.load(handle)"
   ]
  },
  {
   "cell_type": "code",
   "execution_count": 5,
   "metadata": {},
   "outputs": [],
   "source": [
    "# def flatten(l):\n",
    "#     return [item for sublist in l for item in sublist]"
   ]
  },
  {
   "cell_type": "code",
   "execution_count": 6,
   "metadata": {},
   "outputs": [],
   "source": [
    "data = flatten_data(data)"
   ]
  },
  {
   "cell_type": "code",
   "execution_count": 7,
   "metadata": {},
   "outputs": [],
   "source": [
    "# with open('processed1.pickle', 'rb') as handle:\n",
    "#     data1 = pickle.load(handle)"
   ]
  },
  {
   "cell_type": "code",
   "execution_count": 8,
   "metadata": {},
   "outputs": [],
   "source": [
    "from sklearn.feature_extraction.text import TfidfVectorizer\n",
    "\n",
    "from sklearn.metrics.pairwise import cosine_similarity\n",
    "\n",
    "# tf = TfidfVectorizer(analyzer='word', ngram_range=(1, 3), min_df=0, stop_words='english')"
   ]
  },
  {
   "cell_type": "code",
   "execution_count": 9,
   "metadata": {},
   "outputs": [],
   "source": [
    "#Get list of reviews\n",
    "reviews = []\n",
    "for i in data.keys():\n",
    "    for j in data[i]:\n",
    "        #j is not list\n",
    "        if type(j) is not list:\n",
    "            reviews.append(j)\n",
    "        #j is list\n",
    "        else:\n",
    "            for k in j:\n",
    "                reviews.append(k)"
   ]
  },
  {
   "cell_type": "code",
   "execution_count": 10,
   "metadata": {},
   "outputs": [
    {
     "name": "stdout",
     "output_type": "stream",
     "text": [
      "Number of anime: 30\n",
      "Number of review: 711\n"
     ]
    }
   ],
   "source": [
    "print(f\"Number of anime: {len(data.keys())}\")\n",
    "print(f\"Number of review: {len(reviews)}\")"
   ]
  },
  {
   "cell_type": "code",
   "execution_count": 11,
   "metadata": {},
   "outputs": [],
   "source": [
    "def get_key(val):\n",
    "    for key, value in data.items():\n",
    "         if val in value:\n",
    "             return key\n",
    "def get_id(index):\n",
    "    return get_key(reviews[index])"
   ]
  },
  {
   "cell_type": "code",
   "execution_count": 12,
   "metadata": {},
   "outputs": [],
   "source": [
    "vec = TfidfVectorizer()\n",
    "X = vec.fit_transform(reviews)"
   ]
  },
  {
   "cell_type": "code",
   "execution_count": 13,
   "metadata": {},
   "outputs": [],
   "source": [
    "doc_term_matrix = X.toarray()"
   ]
  },
  {
   "cell_type": "code",
   "execution_count": 14,
   "metadata": {},
   "outputs": [
    {
     "name": "stdout",
     "output_type": "stream",
     "text": [
      "(711, 5718)\n"
     ]
    }
   ],
   "source": [
    "print(doc_term_matrix.shape)"
   ]
  },
  {
   "cell_type": "code",
   "execution_count": 27,
   "metadata": {},
   "outputs": [],
   "source": [
    "#Music related\n",
    "#Unique art style\n",
    "test_string = \"Anime with basketball\""
   ]
  },
  {
   "cell_type": "code",
   "execution_count": 28,
   "metadata": {},
   "outputs": [],
   "source": [
    "sparse_matrix = vec.fit_transform([test_string]+reviews)\n",
    "cosine = cosine_similarity(sparse_matrix[0,:],sparse_matrix[1:,:])"
   ]
  },
  {
   "cell_type": "code",
   "execution_count": 29,
   "metadata": {},
   "outputs": [
    {
     "name": "stdout",
     "output_type": "stream",
     "text": [
      "       cosine                                            strings\n",
      "692  0.084064   This anime is heart warming and mild comedic ...\n",
      "307  0.081442   It's a very touching slice of life with great...\n",
      "304  0.078076   The anime is an anime everyone should watch a...\n",
      "392  0.073988   This anime could possibly become my favourite...\n",
      "266  0.071443   [ANIME_NAME] is hands down one of the best sl...\n",
      "..        ...                                                ...\n",
      "370  0.000000   At times it seemed to jump around a bit, but ...\n",
      "363  0.000000   The plot of the series was to get a bunch of ...\n",
      "362  0.000000   Hirasawa [FEMALE_CHAR] gets the most developm...\n",
      "361  0.000000   [ANIME_NAME] is one of those rare shows that ...\n",
      "710  0.000000   The story did a stunning job showing [CHAR] M...\n",
      "\n",
      "[711 rows x 2 columns]\n"
     ]
    }
   ],
   "source": [
    "print(pd.DataFrame({'cosine':cosine[0],'strings':reviews}).sort_values('cosine',ascending=False))"
   ]
  },
  {
   "cell_type": "code",
   "execution_count": 30,
   "metadata": {},
   "outputs": [
    {
     "data": {
      "text/plain": [
       "['さらい屋 五葉', 'Saraiya Goyou', 'House of Five Leaves']"
      ]
     },
     "execution_count": 30,
     "metadata": {},
     "output_type": "execute_result"
    }
   ],
   "source": [
    "anime_id = get_key(reviews[95])\n",
    "anime_info[anime_id].names"
   ]
  },
  {
   "cell_type": "code",
   "execution_count": 31,
   "metadata": {},
   "outputs": [],
   "source": [
    "result = pd.DataFrame({'cosine':cosine[0],'strings':reviews}).sort_values('cosine',ascending=False)"
   ]
  },
  {
   "cell_type": "code",
   "execution_count": 32,
   "metadata": {},
   "outputs": [
    {
     "name": "stdout",
     "output_type": "stream",
     "text": [
      "692    0.084064\n",
      "307    0.081442\n",
      "304    0.078076\n",
      "392    0.073988\n",
      "266    0.071443\n",
      "         ...   \n",
      "370    0.000000\n",
      "363    0.000000\n",
      "362    0.000000\n",
      "361    0.000000\n",
      "710    0.000000\n",
      "Name: cosine, Length: 711, dtype: float64\n"
     ]
    }
   ],
   "source": [
    "print(result['cosine'])"
   ]
  },
  {
   "cell_type": "code",
   "execution_count": 33,
   "metadata": {},
   "outputs": [],
   "source": [
    "#Remove reviews with cosine similarity equal to 0\n",
    "filtered_result = result.loc[~(result['cosine']==0)]"
   ]
  },
  {
   "cell_type": "code",
   "execution_count": 34,
   "metadata": {},
   "outputs": [],
   "source": [
    "summary = {}\n",
    "ids1 = filtered_result.index[:10]\n",
    "def review_summary(data):\n",
    "    for index in data.index[:].tolist():\n",
    "        if len(anime_info[get_id(index)].names) == 3:\n",
    "            title = anime_info[get_id(index)].names[2]  \n",
    "        else:\n",
    "            title = anime_info[get_id(index)].names[1]\n",
    "        # summary[title] = data.loc[index]['strings']\n",
    "        if title not in summary.keys():\n",
    "            summary[title] = [data.loc[index]['cosine']]\n",
    "        else:\n",
    "            summary[title].append(data.loc[index]['cosine'])"
   ]
  },
  {
   "cell_type": "code",
   "execution_count": 35,
   "metadata": {},
   "outputs": [],
   "source": [
    "review_summary(filtered_result)"
   ]
  },
  {
   "cell_type": "code",
   "execution_count": 36,
   "metadata": {},
   "outputs": [],
   "source": [
    "recc = {}\n",
    "for k,v in summary.items():\n",
    "    if len(v) > 1:\n",
    "        # recc[k] = np.mean(v)\n",
    "        recc[k] = np.mean(v[:5])"
   ]
  },
  {
   "cell_type": "code",
   "execution_count": 37,
   "metadata": {},
   "outputs": [],
   "source": [
    "def get_recommendation(data):\n",
    "    return sorted(recc.items(), key=lambda x: x[1], reverse=True)"
   ]
  },
  {
   "cell_type": "code",
   "execution_count": 38,
   "metadata": {},
   "outputs": [
    {
     "name": "stdout",
     "output_type": "stream",
     "text": [
      "Top 1: K-ON! - 0.0740493067638825\n",
      "Top 2: My Roommate is a Cat - 0.060047696024826305\n",
      "Top 3: Clannad: After Story - 0.05132819196847862\n",
      "Top 4: House of Five Leaves - 0.049072129914068605\n",
      "Top 5: Gate 2 - 0.04310388366480506\n",
      "Top 6: Digimon: Digital Monsters - 0.0391512001642648\n",
      "Top 7: Made in Abyss - 0.034845011682372175\n",
      "Top 8: Is the Order a Rabbit?? ～Dear My Sister～ - 0.032103912854584825\n",
      "Top 9: Lupin the 3rd Part 2 - 0.031420190596214294\n",
      "Top 10: Gintama Season 5 - 0.026069520226324673\n"
     ]
    }
   ],
   "source": [
    "rank = get_recommendation(recc)\n",
    "for i in range(len(recc) if len(recc) < 10 else 10):\n",
    "    print(f\"Top {i+1}: {rank[i][0]} - {rank[i][1]}\")"
   ]
  },
  {
   "cell_type": "code",
   "execution_count": 61,
   "metadata": {},
   "outputs": [],
   "source": [
    "#Write recommendation result to pandas dataframe\n",
    "recommendation = pd.DataFrame(columns=['anime_title','score'])\n",
    "for i in range(len(recc) if len(recc) < 10 else 10):\n",
    "    recommendation.loc[i] = [rank[i][0],rank[i][1]]"
   ]
  },
  {
   "cell_type": "code",
   "execution_count": 62,
   "metadata": {},
   "outputs": [],
   "source": [
    "import seaborn as sns\n",
    "import matplotlib.pyplot as plt\n",
    "import pandas as pd"
   ]
  },
  {
   "cell_type": "code",
   "execution_count": 80,
   "metadata": {},
   "outputs": [
    {
     "data": {
      "image/png": "[encoded data removed]",
      "text/plain": [
       "<Figure size 432x288 with 1 Axes>"
      ]
     },
     "metadata": {},
     "output_type": "display_data"
    }
   ],
   "source": [
    "#Plot recommendation result\n",
    "sns.lineplot(data=recommendation,markers=True)\n",
    "plt.savefig('recommendation.png')\n",
    "plt.show()"
   ]
  },
  {
   "cell_type": "code",
   "execution_count": 79,
   "metadata": {},
   "outputs": [
    {
     "data": {
      "text/plain": [
       "<Figure size 432x288 with 0 Axes>"
      ]
     },
     "metadata": {},
     "output_type": "display_data"
    }
   ],
   "source": []
  },
  {
   "cell_type": "code",
   "execution_count": 53,
   "metadata": {},
   "outputs": [
    {
     "name": "stdout",
     "output_type": "stream",
     "text": [
      "House of Five Leaves\n",
      "House of Five Leaves\n",
      "Made in Abyss\n",
      "K-ON!\n",
      "Digimon: Digital Monsters\n",
      "K-ON!\n",
      "K-ON!\n",
      "K-ON!\n",
      "K-ON!\n",
      "K-ON!\n"
     ]
    }
   ],
   "source": [
    "ids = result.index[:].tolist()\n",
    "for i in ids[:10]:\n",
    "    print(anime_info[get_id(i)].names[2])"
   ]
  },
  {
   "cell_type": "code",
   "execution_count": 54,
   "metadata": {},
   "outputs": [],
   "source": [
    "def vect_cos(vect, test_list):\n",
    "    \"\"\" Vectorise text and compute the cosine similarity \"\"\"\n",
    "    query_0 = vect.transform([' '.join(vect.get_feature_names())])\n",
    "    query_1 = vect.transform(test_list)\n",
    "    cos_sim = cosine_similarity(query_0.A, query_1.A)  # displays the resulting matrix\n",
    "    return query_1, np.round(cos_sim.squeeze(), 3)"
   ]
  },
  {
   "cell_type": "code",
   "execution_count": 55,
   "metadata": {},
   "outputs": [
    {
     "data": {
      "text/plain": [
       "{'anime': 0, 'with': 4, 'unique': 3, 'art': 1, 'style': 2}"
      ]
     },
     "execution_count": 55,
     "metadata": {},
     "output_type": "execute_result"
    }
   ],
   "source": [
    "test_string = \"anime with unique art style\"\n",
    "train = [test_string]\n",
    "# vectorizer = CountVectorizer(stop_words='english').fit(train)\n",
    "vectorizer = CountVectorizer().fit(train)\n",
    "vectorizer.vocabulary_"
   ]
  },
  {
   "cell_type": "code",
   "execution_count": 56,
   "metadata": {},
   "outputs": [
    {
     "name": "stdout",
     "output_type": "stream",
     "text": [
      "cosine similarity for test string and anime\n",
      "\n",
      " Gintama Season 5 : 0.674.\n",
      "\n",
      " Made in Abyss : 0.837.\n",
      "\n",
      " HAIKYU!! 2nd Season : 0.632.\n",
      "\n",
      " Code Geass: Lelouch of the Rebellion R2 : 0.767.\n",
      "\n",
      " Clannad: After Story : 0.67.\n",
      "\n",
      " The Tale of The Princess Kaguya : 0.894.\n",
      "\n",
      " Ghost in the Shell 2.0 : 0.849.\n",
      "\n",
      " Fullmetal Alchemist: Brotherhood : 0.775.\n",
      "\n",
      " One-Punch Man : 0.693.\n",
      "\n",
      " Nodame Cantabile Finale Special : 0.0.\n",
      "\n",
      " Saint Seiya: The Hades Chapter - Inferno : 0.632.\n",
      "\n",
      " Lupin the 3rd Part 2 : 0.701.\n",
      "\n",
      " House of Five Leaves : 0.851.\n",
      "\n",
      " Noragami OVA : 0.814.\n",
      "\n",
      " Miss Kobayashi's Dragon Maid: Valentines and Hot Springs! (Please Don't Get Your Hopes Up) : 0.447.\n",
      "\n",
      " Kuroko no Basket 2 NG-shuu : 0.447.\n",
      "\n",
      " K-ON!: Live House! : 0.0.\n",
      "\n",
      " InuYasha the Movie 3: Swords of an Honorable Ruler : 0.632.\n",
      "\n",
      " Hidamari Sketch x Hoshimittsu Specials : 0.0.\n",
      "\n",
      " Haikyuu!! the Movie: The Winner and the Loser : 0.0.\n",
      "\n",
      " Is the Order a Rabbit?? ～Dear My Sister～ : 0.542.\n",
      "\n",
      " Legend of the Galactic Heroes: Die Neue These Second : 0.447.\n",
      "\n",
      " Monthly Girls' Nozaki-kun Specials : 0.447.\n",
      "\n",
      " Case Closed: Kid in Trap Island : 0.0.\n",
      "\n",
      " Bungou Stray Dogs: DEAD APPLE : 0.542.\n",
      "\n",
      " Kase-san and Morning Glories : 0.702.\n",
      "\n",
      " K-ON! : 0.736.\n",
      "\n",
      " Gate 2 : 0.715.\n",
      "\n",
      " Digimon: Digital Monsters : 0.826.\n",
      "\n",
      " My Roommate is a Cat : 0.662.\n"
     ]
    },
    {
     "name": "stderr",
     "output_type": "stream",
     "text": [
      "e:\\Python\\.venv\\lib\\site-packages\\sklearn\\utils\\deprecation.py:87: FutureWarning: Function get_feature_names is deprecated; get_feature_names is deprecated in 1.0 and will be removed in 1.2. Please use get_feature_names_out instead.\n",
      "  warnings.warn(msg, category=FutureWarning)\n",
      "e:\\Python\\.venv\\lib\\site-packages\\sklearn\\utils\\deprecation.py:87: FutureWarning: Function get_feature_names is deprecated; get_feature_names is deprecated in 1.0 and will be removed in 1.2. Please use get_feature_names_out instead.\n",
      "  warnings.warn(msg, category=FutureWarning)\n",
      "e:\\Python\\.venv\\lib\\site-packages\\sklearn\\utils\\deprecation.py:87: FutureWarning: Function get_feature_names is deprecated; get_feature_names is deprecated in 1.0 and will be removed in 1.2. Please use get_feature_names_out instead.\n",
      "  warnings.warn(msg, category=FutureWarning)\n",
      "e:\\Python\\.venv\\lib\\site-packages\\sklearn\\utils\\deprecation.py:87: FutureWarning: Function get_feature_names is deprecated; get_feature_names is deprecated in 1.0 and will be removed in 1.2. Please use get_feature_names_out instead.\n",
      "  warnings.warn(msg, category=FutureWarning)\n",
      "e:\\Python\\.venv\\lib\\site-packages\\sklearn\\utils\\deprecation.py:87: FutureWarning: Function get_feature_names is deprecated; get_feature_names is deprecated in 1.0 and will be removed in 1.2. Please use get_feature_names_out instead.\n",
      "  warnings.warn(msg, category=FutureWarning)\n",
      "e:\\Python\\.venv\\lib\\site-packages\\sklearn\\utils\\deprecation.py:87: FutureWarning: Function get_feature_names is deprecated; get_feature_names is deprecated in 1.0 and will be removed in 1.2. Please use get_feature_names_out instead.\n",
      "  warnings.warn(msg, category=FutureWarning)\n",
      "e:\\Python\\.venv\\lib\\site-packages\\sklearn\\utils\\deprecation.py:87: FutureWarning: Function get_feature_names is deprecated; get_feature_names is deprecated in 1.0 and will be removed in 1.2. Please use get_feature_names_out instead.\n",
      "  warnings.warn(msg, category=FutureWarning)\n",
      "e:\\Python\\.venv\\lib\\site-packages\\sklearn\\utils\\deprecation.py:87: FutureWarning: Function get_feature_names is deprecated; get_feature_names is deprecated in 1.0 and will be removed in 1.2. Please use get_feature_names_out instead.\n",
      "  warnings.warn(msg, category=FutureWarning)\n",
      "e:\\Python\\.venv\\lib\\site-packages\\sklearn\\utils\\deprecation.py:87: FutureWarning: Function get_feature_names is deprecated; get_feature_names is deprecated in 1.0 and will be removed in 1.2. Please use get_feature_names_out instead.\n",
      "  warnings.warn(msg, category=FutureWarning)\n",
      "e:\\Python\\.venv\\lib\\site-packages\\sklearn\\utils\\deprecation.py:87: FutureWarning: Function get_feature_names is deprecated; get_feature_names is deprecated in 1.0 and will be removed in 1.2. Please use get_feature_names_out instead.\n",
      "  warnings.warn(msg, category=FutureWarning)\n",
      "e:\\Python\\.venv\\lib\\site-packages\\sklearn\\utils\\deprecation.py:87: FutureWarning: Function get_feature_names is deprecated; get_feature_names is deprecated in 1.0 and will be removed in 1.2. Please use get_feature_names_out instead.\n",
      "  warnings.warn(msg, category=FutureWarning)\n",
      "e:\\Python\\.venv\\lib\\site-packages\\sklearn\\utils\\deprecation.py:87: FutureWarning: Function get_feature_names is deprecated; get_feature_names is deprecated in 1.0 and will be removed in 1.2. Please use get_feature_names_out instead.\n",
      "  warnings.warn(msg, category=FutureWarning)\n",
      "e:\\Python\\.venv\\lib\\site-packages\\sklearn\\utils\\deprecation.py:87: FutureWarning: Function get_feature_names is deprecated; get_feature_names is deprecated in 1.0 and will be removed in 1.2. Please use get_feature_names_out instead.\n",
      "  warnings.warn(msg, category=FutureWarning)\n",
      "e:\\Python\\.venv\\lib\\site-packages\\sklearn\\utils\\deprecation.py:87: FutureWarning: Function get_feature_names is deprecated; get_feature_names is deprecated in 1.0 and will be removed in 1.2. Please use get_feature_names_out instead.\n",
      "  warnings.warn(msg, category=FutureWarning)\n",
      "e:\\Python\\.venv\\lib\\site-packages\\sklearn\\utils\\deprecation.py:87: FutureWarning: Function get_feature_names is deprecated; get_feature_names is deprecated in 1.0 and will be removed in 1.2. Please use get_feature_names_out instead.\n",
      "  warnings.warn(msg, category=FutureWarning)\n",
      "e:\\Python\\.venv\\lib\\site-packages\\sklearn\\utils\\deprecation.py:87: FutureWarning: Function get_feature_names is deprecated; get_feature_names is deprecated in 1.0 and will be removed in 1.2. Please use get_feature_names_out instead.\n",
      "  warnings.warn(msg, category=FutureWarning)\n",
      "e:\\Python\\.venv\\lib\\site-packages\\sklearn\\utils\\deprecation.py:87: FutureWarning: Function get_feature_names is deprecated; get_feature_names is deprecated in 1.0 and will be removed in 1.2. Please use get_feature_names_out instead.\n",
      "  warnings.warn(msg, category=FutureWarning)\n",
      "e:\\Python\\.venv\\lib\\site-packages\\sklearn\\utils\\deprecation.py:87: FutureWarning: Function get_feature_names is deprecated; get_feature_names is deprecated in 1.0 and will be removed in 1.2. Please use get_feature_names_out instead.\n",
      "  warnings.warn(msg, category=FutureWarning)\n",
      "e:\\Python\\.venv\\lib\\site-packages\\sklearn\\utils\\deprecation.py:87: FutureWarning: Function get_feature_names is deprecated; get_feature_names is deprecated in 1.0 and will be removed in 1.2. Please use get_feature_names_out instead.\n",
      "  warnings.warn(msg, category=FutureWarning)\n",
      "e:\\Python\\.venv\\lib\\site-packages\\sklearn\\utils\\deprecation.py:87: FutureWarning: Function get_feature_names is deprecated; get_feature_names is deprecated in 1.0 and will be removed in 1.2. Please use get_feature_names_out instead.\n",
      "  warnings.warn(msg, category=FutureWarning)\n",
      "e:\\Python\\.venv\\lib\\site-packages\\sklearn\\utils\\deprecation.py:87: FutureWarning: Function get_feature_names is deprecated; get_feature_names is deprecated in 1.0 and will be removed in 1.2. Please use get_feature_names_out instead.\n",
      "  warnings.warn(msg, category=FutureWarning)\n",
      "e:\\Python\\.venv\\lib\\site-packages\\sklearn\\utils\\deprecation.py:87: FutureWarning: Function get_feature_names is deprecated; get_feature_names is deprecated in 1.0 and will be removed in 1.2. Please use get_feature_names_out instead.\n",
      "  warnings.warn(msg, category=FutureWarning)\n",
      "e:\\Python\\.venv\\lib\\site-packages\\sklearn\\utils\\deprecation.py:87: FutureWarning: Function get_feature_names is deprecated; get_feature_names is deprecated in 1.0 and will be removed in 1.2. Please use get_feature_names_out instead.\n",
      "  warnings.warn(msg, category=FutureWarning)\n",
      "e:\\Python\\.venv\\lib\\site-packages\\sklearn\\utils\\deprecation.py:87: FutureWarning: Function get_feature_names is deprecated; get_feature_names is deprecated in 1.0 and will be removed in 1.2. Please use get_feature_names_out instead.\n",
      "  warnings.warn(msg, category=FutureWarning)\n",
      "e:\\Python\\.venv\\lib\\site-packages\\sklearn\\utils\\deprecation.py:87: FutureWarning: Function get_feature_names is deprecated; get_feature_names is deprecated in 1.0 and will be removed in 1.2. Please use get_feature_names_out instead.\n",
      "  warnings.warn(msg, category=FutureWarning)\n",
      "e:\\Python\\.venv\\lib\\site-packages\\sklearn\\utils\\deprecation.py:87: FutureWarning: Function get_feature_names is deprecated; get_feature_names is deprecated in 1.0 and will be removed in 1.2. Please use get_feature_names_out instead.\n",
      "  warnings.warn(msg, category=FutureWarning)\n",
      "e:\\Python\\.venv\\lib\\site-packages\\sklearn\\utils\\deprecation.py:87: FutureWarning: Function get_feature_names is deprecated; get_feature_names is deprecated in 1.0 and will be removed in 1.2. Please use get_feature_names_out instead.\n",
      "  warnings.warn(msg, category=FutureWarning)\n",
      "e:\\Python\\.venv\\lib\\site-packages\\sklearn\\utils\\deprecation.py:87: FutureWarning: Function get_feature_names is deprecated; get_feature_names is deprecated in 1.0 and will be removed in 1.2. Please use get_feature_names_out instead.\n",
      "  warnings.warn(msg, category=FutureWarning)\n",
      "e:\\Python\\.venv\\lib\\site-packages\\sklearn\\utils\\deprecation.py:87: FutureWarning: Function get_feature_names is deprecated; get_feature_names is deprecated in 1.0 and will be removed in 1.2. Please use get_feature_names_out instead.\n",
      "  warnings.warn(msg, category=FutureWarning)\n",
      "e:\\Python\\.venv\\lib\\site-packages\\sklearn\\utils\\deprecation.py:87: FutureWarning: Function get_feature_names is deprecated; get_feature_names is deprecated in 1.0 and will be removed in 1.2. Please use get_feature_names_out instead.\n",
      "  warnings.warn(msg, category=FutureWarning)\n"
     ]
    }
   ],
   "source": [
    "print(\"cosine similarity for test string and anime\")\n",
    "for id in data.keys():\n",
    "    \n",
    "    vect, cos = vect_cos(vectorizer, [' '.join(data[id])])\n",
    "    print('\\n {} : {}.'.format(anime_info[id].names[-1],cos))"
   ]
  },
  {
   "cell_type": "code",
   "execution_count": 98,
   "metadata": {},
   "outputs": [],
   "source": [
    "tgt_transform = vec.transform([test_string]).toarray()\n",
    "tgt_cosine = cosine_similarity(doc_term_matrix,tgt_transform)"
   ]
  },
  {
   "cell_type": "code",
   "execution_count": 41,
   "metadata": {},
   "outputs": [],
   "source": [
    "import numpy as np"
   ]
  },
  {
   "cell_type": "code",
   "execution_count": 42,
   "metadata": {},
   "outputs": [
    {
     "name": "stdout",
     "output_type": "stream",
     "text": [
      "[[0.]\n",
      " [0.]\n",
      " [0.]\n",
      " [0.]\n",
      " [0.]\n",
      " [0.]\n",
      " [0.]\n",
      " [0.]\n",
      " [0.]\n",
      " [0.]\n",
      " [0.]]\n",
      "0\n"
     ]
    }
   ],
   "source": [
    "print(tgt_cosine)\n",
    "#Print highest cosine similarity index\n",
    "print(np.argmax(tgt_cosine))"
   ]
  },
  {
   "cell_type": "code",
   "execution_count": 63,
   "metadata": {},
   "outputs": [
    {
     "name": "stdout",
     "output_type": "stream",
     "text": [
      " Art 9/10: It is great, especially the actions during the critical moments in the game . The pacing is a bit slow until the last 4-5 episodes . There are many very different characters . Most characters are stereotypes and there is not much development . Overall 8/10 .\n"
     ]
    }
   ],
   "source": [
    "print(reviews[np.argmax(tgt_cosine)])"
   ]
  },
  {
   "cell_type": "code",
   "execution_count": 64,
   "metadata": {},
   "outputs": [
    {
     "data": {
      "text/plain": [
       "' Art 9/10: It is great, especially the actions during the critical moments in the game . The pacing is a bit slow until the last 4-5 episodes . There are many very different characters . Most characters are stereotypes and there is not much development . Overall 8/10 .'"
      ]
     },
     "execution_count": 64,
     "metadata": {},
     "output_type": "execute_result"
    }
   ],
   "source": [
    "reviews[5]"
   ]
  }
 ],
 "metadata": {
  "kernelspec": {
   "display_name": "Python 3.9.9 64-bit (system)",
   "language": "python",
   "name": "python3"
  },
  "language_info": {
   "codemirror_mode": {
    "name": "ipython",
    "version": 3
   },
   "file_extension": ".py",
   "mimetype": "text/x-python",
   "name": "python",
   "nbconvert_exporter": "python",
   "pygments_lexer": "ipython3",
   "version": "3.9.9"
  },
  "orig_nbformat": 4,
  "vscode": {
   "interpreter": {
    "hash": "93f1965ce6100b59cc68242dd9d2313ffb6cf6edc00db502dc336e4c50bfb553"
   }
  }
 },
 "nbformat": 4,
 "nbformat_minor": 2
}
