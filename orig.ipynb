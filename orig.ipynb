{
 "cells": [
  {
   "cell_type": "code",
   "execution_count": 1,
   "metadata": {},
   "outputs": [],
   "source": [
    "from yuno1.preprocessing.summarizer import *\n",
    "from yuno1.preprocessing.filter import *\n",
    "import pandas as pd\n",
    "import pickle"
   ]
  },
  {
   "cell_type": "code",
   "execution_count": 2,
   "metadata": {},
   "outputs": [],
   "source": [
    "anime_info = pd.read_pickle('data/anime_info.pickle')\n"
   ]
  },
  {
   "cell_type": "code",
   "execution_count": 3,
   "metadata": {},
   "outputs": [],
   "source": [
    "import spacy\n",
    "from yuno1.preprocessing.sentencizer import *\n"
   ]
  },
  {
   "cell_type": "code",
   "execution_count": 4,
   "metadata": {},
   "outputs": [],
   "source": [
    "# rs = ReviewSentencizer(nlp=spacy.load(\"en_core_web_sm\"))\n",
    "# summer = Summarizer()\n",
    "# filt = FilterText(list(anime_info.values()))"
   ]
  },
  {
   "cell_type": "code",
   "execution_count": 5,
   "metadata": {},
   "outputs": [],
   "source": [
    "reviews = pd.read_csv('data/reviews.csv')"
   ]
  },
  {
   "cell_type": "code",
   "execution_count": 6,
   "metadata": {},
   "outputs": [
    {
     "data": {
      "text/plain": [
       "34096"
      ]
     },
     "execution_count": 6,
     "metadata": {},
     "output_type": "execute_result"
    }
   ],
   "source": [
    "reviews['anime_uid'][0]"
   ]
  },
  {
   "cell_type": "code",
   "execution_count": 7,
   "metadata": {},
   "outputs": [
    {
     "data": {
      "text/plain": [
       "192112"
      ]
     },
     "execution_count": 7,
     "metadata": {},
     "output_type": "execute_result"
    }
   ],
   "source": [
    "len(reviews['text'])"
   ]
  },
  {
   "cell_type": "code",
   "execution_count": 12,
   "metadata": {},
   "outputs": [],
   "source": [
    "checkpoint = 0"
   ]
  },
  {
   "cell_type": "code",
   "execution_count": 9,
   "metadata": {},
   "outputs": [],
   "source": [
    "# checkpoint = pickle.load(open('data/checkpoint.pickle', 'rb'))"
   ]
  },
  {
   "cell_type": "code",
   "execution_count": 9,
   "metadata": {},
   "outputs": [],
   "source": [
    "from crawler import Review"
   ]
  },
  {
   "cell_type": "code",
   "execution_count": 10,
   "metadata": {},
   "outputs": [],
   "source": [
    "# print(checkpoint)\n",
    "#257"
   ]
  },
  {
   "cell_type": "code",
   "execution_count": 11,
   "metadata": {},
   "outputs": [
    {
     "ename": "EOFError",
     "evalue": "Ran out of input",
     "output_type": "error",
     "traceback": [
      "\u001b[1;31m---------------------------------------------------------------------------\u001b[0m",
      "\u001b[1;31mEOFError\u001b[0m                                  Traceback (most recent call last)",
      "\u001b[1;32m~\\AppData\\Local\\Temp/ipykernel_6332/1422634699.py\u001b[0m in \u001b[0;36m<module>\u001b[1;34m\u001b[0m\n\u001b[0;32m      1\u001b[0m \u001b[1;32mwith\u001b[0m \u001b[0mopen\u001b[0m\u001b[1;33m(\u001b[0m\u001b[1;34m'data/processed11.pickle'\u001b[0m\u001b[1;33m,\u001b[0m \u001b[1;34m'rb'\u001b[0m\u001b[1;33m)\u001b[0m \u001b[1;32mas\u001b[0m \u001b[0mhandle\u001b[0m\u001b[1;33m:\u001b[0m\u001b[1;33m\u001b[0m\u001b[1;33m\u001b[0m\u001b[0m\n\u001b[1;32m----> 2\u001b[1;33m     \u001b[0mprocessed\u001b[0m \u001b[1;33m=\u001b[0m \u001b[0mpickle\u001b[0m\u001b[1;33m.\u001b[0m\u001b[0mload\u001b[0m\u001b[1;33m(\u001b[0m\u001b[0mhandle\u001b[0m\u001b[1;33m)\u001b[0m\u001b[1;33m\u001b[0m\u001b[1;33m\u001b[0m\u001b[0m\n\u001b[0m",
      "\u001b[1;31mEOFError\u001b[0m: Ran out of input"
     ]
    }
   ],
   "source": [
    "with open('data/processed11.pickle', 'rb') as handle:\n",
    "    processed = pickle.load(handle)"
   ]
  },
  {
   "cell_type": "code",
   "execution_count": 13,
   "metadata": {},
   "outputs": [],
   "source": [
    "#function to list of list of strings to list of strings\n",
    "# def list_of_list_to_list(l):\n",
    "#     return [item for sublist in l for item in sublist]"
   ]
  },
  {
   "cell_type": "code",
   "execution_count": 13,
   "metadata": {},
   "outputs": [],
   "source": [
    "review = Review(reviews = reviews,anime_info = anime_info)"
   ]
  },
  {
   "cell_type": "code",
   "execution_count": 14,
   "metadata": {},
   "outputs": [
    {
     "name": "stdout",
     "output_type": "stream",
     "text": [
      "Return format_txt <class 'str'>\n",
      "Sentencizer <class 'str'>\n",
      "Return sentencizer <class 'list'>\n",
      "Return summarizer <class 'list'>\n",
      "Filter <class 'list'>\n",
      "Return filter_text <class 'list'>\n",
      "Iteration 1\n",
      "Return format_txt <class 'str'>\n",
      "Sentencizer <class 'str'>\n",
      "Return sentencizer <class 'list'>\n"
     ]
    }
   ],
   "source": [
    "# processed = {int: [] for int in reviews['anime_uid']}\n",
    "\n",
    "processed = {}\n",
    "for i in range(checkpoint,len(reviews['text'])):\n",
    "    # str = rs.format_text(reviews['text'][i])\n",
    "    # str = rs.sents(str)\n",
    "    # str = summer.summarize(str)\n",
    "    # str = filt.filter_all(reviews['anime_uid'][i],str)\n",
    "    # if type(str[0]) == list:\n",
    "    #     str = list_of_list_to_list(str)\n",
    "    str = review.process(i)\n",
    "        \n",
    "    if reviews['anime_uid'][i] in processed:\n",
    "        processed[reviews['anime_uid'][i]].append(str)\n",
    "    else:\n",
    "        processed[reviews['anime_uid'][i]] = str\n",
    "        \n",
    "    pickle.dump(i, open(\"checkpoint.pickle\", \"wb\"))\n",
    "    print(f\"Iteration {i+1}\")\n",
    "    if len(processed) == 200:\n",
    "        print(f\"{len(processed)} reviews processed\")\n",
    "        break"
   ]
  },
  {
   "cell_type": "code",
   "execution_count": 12,
   "metadata": {},
   "outputs": [],
   "source": [
    "with open('data/processed1.pickle', 'wb') as handle:\n",
    "    pickle.dump(processed, handle, protocol=pickle.HIGHEST_PROTOCOL)\n",
    "\n",
    "with open('data/processed1.pickle', 'rb') as handle:\n",
    "    b = pickle.load(handle)"
   ]
  },
  {
   "cell_type": "code",
   "execution_count": 13,
   "metadata": {},
   "outputs": [
    {
     "data": {
      "text/plain": [
       "dict_keys([34096, 34599, 28891, 2904, 4181, 16664, 4672, 5114, 30276, 8038, 1253, 1425, 7588, 20767, 35363, 22673, 6862, 451, 9563, 30364, 33280, 36369, 27633, 8609, 34944, 36214, 5680, 31637, 552])"
      ]
     },
     "execution_count": 13,
     "metadata": {},
     "output_type": "execute_result"
    }
   ],
   "source": [
    "b.keys()"
   ]
  },
  {
   "cell_type": "code",
   "execution_count": 19,
   "metadata": {},
   "outputs": [
    {
     "data": {
      "text/plain": [
       "[\" This show was a perfect show for kids, or even for adults, to show them how important friendship and togetherness are, and how important life was, since Digimon showed the interaction between each others perfectly . So far, this was my favorite show among another childhood show (Samurai X, Inuyasha, etc) and I did remember that I kept re-watching the same episode over and over again, without feeling bored back then . Can't wait for Spring 2015, and I'm proud for having this as part of my childhood shows, and childhood memories (cheers 90s!)\",\n",
       " [\" Story: 9 (It's a surprisingly deep and extensive odissey) Art: 8 (Good at the beginning, and gets better by the episode) Sound: 9 . Character: 10 (Well developed, very likeable, realistic, in short, perfect) Enjoyment: 9.0 (Rarely dull, and with some moments of pure epicness) Overall: 9/10 (Certainly NOT a copy of pokémon - it's far, far better than it)\"],\n",
       " [\" This anime is a must watch not for the younger generation or people who grew up with this series in the 90's . The art is 100% hand drawn and still look good till these days . There is 8 human characters, 8 digimon and still balance it very well . Each characters in this anime have their own personality that we all can reflect on . It have such great moral lessons that even adults can learn .\"],\n",
       " [' This anime is one from my childhood, and I absolutely love it! I remember watching it when I was about 12 / 13 years old and I can still go back to it today with the same enjoyment . For an anime that is focused on children, it tends to be surprisingly deep . Friendship, honesty, hard work, TEAM-work, etc are all in the foundation of this series . The characters are fun and interesting to watch and there are a lot of comedy-gold moments throughout the series . There are however an equal amount of heart-string pulling moments that will break your heart .'],\n",
       " [\" As a whole, Digimon is a pretty good, but very flawed, show . The storylines are usually interesting, and there's several cool sci-fi episodes . The main flaw is that the animation and direction are mediocre and can often not give episodes the epic feeling they should have . Some episodes packed a nice emotional punch but for example most of the death scenes were nowhere NEAR as emotional as they should be .\"],\n",
       " [' The art style has a lot of sharper colors and simpler character designs . The biomes in season 1 and the city designs in the later part of the show were the best drawn things involved . I enjoyed digimon a lot, it was a charming show of my youth and i still play the games and such now that i am older .'],\n",
       " [' Seven children are transported to another world when they wake up in this world . Each one of them has a tiny creature following them around who introduce themselves as digital monsters . The children later learn that this process in which the digimon change is called digivolving . This is made possible through their digivices; the gadgets which they received from before . As the series continues the children, known as the digidestined, find many new adventures while facing many new enemies and challenges .',\n",
       "  \" The story seemed to flow smoothly from start to finish . The way the author created the many types of digimon, their digivolutions, and even the world where they lived was imaginative . The children soon learn that to get back home, they will have to put aside their differences and work as a team . With their digimon to help them along, they know they can overcome every challenge they're faced with . All in all the story along with the characters, made for a very enjoyable series .\",\n",
       "  ' [CHAR] Tachikawa is the spoiled rich girl who always complains, but is sensitive and caring . [CHAR] Kido is the reliable guy who is always prepared no matter the situation . [CHAR] \"TK\" Takashi is [CHAR]\\'s younger brother . Koshiro \"[CHAR]\" Izumi is the brain of the group . He is always looked to when there\\'s a problem .',\n",
       "  \" The art style gives this series a unique flare . It's American and Japan cartoon style almost mixed together . The voice acting was a lot smoother in the Japanese dub . The English opening is one that is very recognizable and gives you a feeling of nostalgia if you watched it when you were younger . Enjoyment and Overall 9/10 I very much enjoyed this series. It was humorous and light but also had its more serious and dark moments .\"]]"
      ]
     },
     "execution_count": 19,
     "metadata": {},
     "output_type": "execute_result"
    }
   ],
   "source": [
    "b[552]"
   ]
  },
  {
   "cell_type": "code",
   "execution_count": null,
   "metadata": {},
   "outputs": [],
   "source": []
  }
 ],
 "metadata": {
  "kernelspec": {
   "display_name": "Python 3.9.9 64-bit (system)",
   "language": "python",
   "name": "python3"
  },
  "language_info": {
   "codemirror_mode": {
    "name": "ipython",
    "version": 3
   },
   "file_extension": ".py",
   "mimetype": "text/x-python",
   "name": "python",
   "nbconvert_exporter": "python",
   "pygments_lexer": "ipython3",
   "version": "3.9.9"
  },
  "orig_nbformat": 4,
  "vscode": {
   "interpreter": {
    "hash": "93f1965ce6100b59cc68242dd9d2313ffb6cf6edc00db502dc336e4c50bfb553"
   }
  }
 },
 "nbformat": 4,
 "nbformat_minor": 2
}
